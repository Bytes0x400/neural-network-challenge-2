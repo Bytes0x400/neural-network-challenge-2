{
  "cells": [
    {
      "cell_type": "markdown",
      "metadata": {
        "id": "alIIEHibGc3M"
      },
      "source": [
        "## Part 1: Preprocessing"
      ]
    },
    {
      "cell_type": "code",
      "execution_count": 1,
      "metadata": {
        "colab": {
          "base_uri": "https://localhost:8080/",
          "height": 325
        },
        "id": "6eDUJ4NtGc3P",
        "outputId": "2480098c-135c-4cbf-9552-018494ee8ff5"
      },
      "outputs": [
        {
          "data": {
            "text/html": [
              "<div>\n",
              "<style scoped>\n",
              "    .dataframe tbody tr th:only-of-type {\n",
              "        vertical-align: middle;\n",
              "    }\n",
              "\n",
              "    .dataframe tbody tr th {\n",
              "        vertical-align: top;\n",
              "    }\n",
              "\n",
              "    .dataframe thead th {\n",
              "        text-align: right;\n",
              "    }\n",
              "</style>\n",
              "<table border=\"1\" class=\"dataframe\">\n",
              "  <thead>\n",
              "    <tr style=\"text-align: right;\">\n",
              "      <th></th>\n",
              "      <th>Age</th>\n",
              "      <th>Attrition</th>\n",
              "      <th>BusinessTravel</th>\n",
              "      <th>Department</th>\n",
              "      <th>DistanceFromHome</th>\n",
              "      <th>Education</th>\n",
              "      <th>EducationField</th>\n",
              "      <th>EnvironmentSatisfaction</th>\n",
              "      <th>HourlyRate</th>\n",
              "      <th>JobInvolvement</th>\n",
              "      <th>...</th>\n",
              "      <th>PerformanceRating</th>\n",
              "      <th>RelationshipSatisfaction</th>\n",
              "      <th>StockOptionLevel</th>\n",
              "      <th>TotalWorkingYears</th>\n",
              "      <th>TrainingTimesLastYear</th>\n",
              "      <th>WorkLifeBalance</th>\n",
              "      <th>YearsAtCompany</th>\n",
              "      <th>YearsInCurrentRole</th>\n",
              "      <th>YearsSinceLastPromotion</th>\n",
              "      <th>YearsWithCurrManager</th>\n",
              "    </tr>\n",
              "  </thead>\n",
              "  <tbody>\n",
              "    <tr>\n",
              "      <th>0</th>\n",
              "      <td>41</td>\n",
              "      <td>Yes</td>\n",
              "      <td>Travel_Rarely</td>\n",
              "      <td>Sales</td>\n",
              "      <td>1</td>\n",
              "      <td>2</td>\n",
              "      <td>Life Sciences</td>\n",
              "      <td>2</td>\n",
              "      <td>94</td>\n",
              "      <td>3</td>\n",
              "      <td>...</td>\n",
              "      <td>3</td>\n",
              "      <td>1</td>\n",
              "      <td>0</td>\n",
              "      <td>8</td>\n",
              "      <td>0</td>\n",
              "      <td>1</td>\n",
              "      <td>6</td>\n",
              "      <td>4</td>\n",
              "      <td>0</td>\n",
              "      <td>5</td>\n",
              "    </tr>\n",
              "    <tr>\n",
              "      <th>1</th>\n",
              "      <td>49</td>\n",
              "      <td>No</td>\n",
              "      <td>Travel_Frequently</td>\n",
              "      <td>Research &amp; Development</td>\n",
              "      <td>8</td>\n",
              "      <td>1</td>\n",
              "      <td>Life Sciences</td>\n",
              "      <td>3</td>\n",
              "      <td>61</td>\n",
              "      <td>2</td>\n",
              "      <td>...</td>\n",
              "      <td>4</td>\n",
              "      <td>4</td>\n",
              "      <td>1</td>\n",
              "      <td>10</td>\n",
              "      <td>3</td>\n",
              "      <td>3</td>\n",
              "      <td>10</td>\n",
              "      <td>7</td>\n",
              "      <td>1</td>\n",
              "      <td>7</td>\n",
              "    </tr>\n",
              "    <tr>\n",
              "      <th>2</th>\n",
              "      <td>37</td>\n",
              "      <td>Yes</td>\n",
              "      <td>Travel_Rarely</td>\n",
              "      <td>Research &amp; Development</td>\n",
              "      <td>2</td>\n",
              "      <td>2</td>\n",
              "      <td>Other</td>\n",
              "      <td>4</td>\n",
              "      <td>92</td>\n",
              "      <td>2</td>\n",
              "      <td>...</td>\n",
              "      <td>3</td>\n",
              "      <td>2</td>\n",
              "      <td>0</td>\n",
              "      <td>7</td>\n",
              "      <td>3</td>\n",
              "      <td>3</td>\n",
              "      <td>0</td>\n",
              "      <td>0</td>\n",
              "      <td>0</td>\n",
              "      <td>0</td>\n",
              "    </tr>\n",
              "    <tr>\n",
              "      <th>3</th>\n",
              "      <td>33</td>\n",
              "      <td>No</td>\n",
              "      <td>Travel_Frequently</td>\n",
              "      <td>Research &amp; Development</td>\n",
              "      <td>3</td>\n",
              "      <td>4</td>\n",
              "      <td>Life Sciences</td>\n",
              "      <td>4</td>\n",
              "      <td>56</td>\n",
              "      <td>3</td>\n",
              "      <td>...</td>\n",
              "      <td>3</td>\n",
              "      <td>3</td>\n",
              "      <td>0</td>\n",
              "      <td>8</td>\n",
              "      <td>3</td>\n",
              "      <td>3</td>\n",
              "      <td>8</td>\n",
              "      <td>7</td>\n",
              "      <td>3</td>\n",
              "      <td>0</td>\n",
              "    </tr>\n",
              "    <tr>\n",
              "      <th>4</th>\n",
              "      <td>27</td>\n",
              "      <td>No</td>\n",
              "      <td>Travel_Rarely</td>\n",
              "      <td>Research &amp; Development</td>\n",
              "      <td>2</td>\n",
              "      <td>1</td>\n",
              "      <td>Medical</td>\n",
              "      <td>1</td>\n",
              "      <td>40</td>\n",
              "      <td>3</td>\n",
              "      <td>...</td>\n",
              "      <td>3</td>\n",
              "      <td>4</td>\n",
              "      <td>1</td>\n",
              "      <td>6</td>\n",
              "      <td>3</td>\n",
              "      <td>3</td>\n",
              "      <td>2</td>\n",
              "      <td>2</td>\n",
              "      <td>2</td>\n",
              "      <td>2</td>\n",
              "    </tr>\n",
              "  </tbody>\n",
              "</table>\n",
              "<p>5 rows × 27 columns</p>\n",
              "</div>"
            ],
            "text/plain": [
              "   Age Attrition     BusinessTravel              Department  DistanceFromHome  \\\n",
              "0   41       Yes      Travel_Rarely                   Sales                 1   \n",
              "1   49        No  Travel_Frequently  Research & Development                 8   \n",
              "2   37       Yes      Travel_Rarely  Research & Development                 2   \n",
              "3   33        No  Travel_Frequently  Research & Development                 3   \n",
              "4   27        No      Travel_Rarely  Research & Development                 2   \n",
              "\n",
              "   Education EducationField  EnvironmentSatisfaction  HourlyRate  \\\n",
              "0          2  Life Sciences                        2          94   \n",
              "1          1  Life Sciences                        3          61   \n",
              "2          2          Other                        4          92   \n",
              "3          4  Life Sciences                        4          56   \n",
              "4          1        Medical                        1          40   \n",
              "\n",
              "   JobInvolvement  ...  PerformanceRating RelationshipSatisfaction  \\\n",
              "0               3  ...                  3                        1   \n",
              "1               2  ...                  4                        4   \n",
              "2               2  ...                  3                        2   \n",
              "3               3  ...                  3                        3   \n",
              "4               3  ...                  3                        4   \n",
              "\n",
              "   StockOptionLevel TotalWorkingYears  TrainingTimesLastYear WorkLifeBalance  \\\n",
              "0                 0                 8                      0               1   \n",
              "1                 1                10                      3               3   \n",
              "2                 0                 7                      3               3   \n",
              "3                 0                 8                      3               3   \n",
              "4                 1                 6                      3               3   \n",
              "\n",
              "   YearsAtCompany  YearsInCurrentRole  YearsSinceLastPromotion  \\\n",
              "0               6                   4                        0   \n",
              "1              10                   7                        1   \n",
              "2               0                   0                        0   \n",
              "3               8                   7                        3   \n",
              "4               2                   2                        2   \n",
              "\n",
              "   YearsWithCurrManager  \n",
              "0                     5  \n",
              "1                     7  \n",
              "2                     0  \n",
              "3                     0  \n",
              "4                     2  \n",
              "\n",
              "[5 rows x 27 columns]"
            ]
          },
          "execution_count": 1,
          "metadata": {},
          "output_type": "execute_result"
        }
      ],
      "source": [
        "# Import our dependencies\n",
        "from sklearn.model_selection import train_test_split\n",
        "from sklearn.preprocessing import StandardScaler\n",
        "import pandas as pd\n",
        "import numpy as np\n",
        "from tensorflow.keras.models import Model\n",
        "from tensorflow.keras import layers\n",
        "\n",
        "#  Import and read the attrition data\n",
        "attrition_df = pd.read_csv('https://static.bc-edx.com/ai/ail-v-1-0/m19/lms/datasets/attrition.csv')\n",
        "attrition_df.head()"
      ]
    },
    {
      "cell_type": "code",
      "execution_count": 2,
      "metadata": {
        "colab": {
          "base_uri": "https://localhost:8080/"
        },
        "id": "g22aQSY4Gc3Q",
        "outputId": "1f5c13c1-b981-4e40-a7ed-dd3fe6f1b81e"
      },
      "outputs": [
        {
          "data": {
            "text/plain": [
              "Age                         43\n",
              "Attrition                    2\n",
              "BusinessTravel               3\n",
              "Department                   3\n",
              "DistanceFromHome            29\n",
              "Education                    5\n",
              "EducationField               6\n",
              "EnvironmentSatisfaction      4\n",
              "HourlyRate                  71\n",
              "JobInvolvement               4\n",
              "JobLevel                     5\n",
              "JobRole                      9\n",
              "JobSatisfaction              4\n",
              "MaritalStatus                3\n",
              "NumCompaniesWorked          10\n",
              "OverTime                     2\n",
              "PercentSalaryHike           15\n",
              "PerformanceRating            2\n",
              "RelationshipSatisfaction     4\n",
              "StockOptionLevel             4\n",
              "TotalWorkingYears           40\n",
              "TrainingTimesLastYear        7\n",
              "WorkLifeBalance              4\n",
              "YearsAtCompany              37\n",
              "YearsInCurrentRole          19\n",
              "YearsSinceLastPromotion     16\n",
              "YearsWithCurrManager        18\n",
              "dtype: int64"
            ]
          },
          "execution_count": 2,
          "metadata": {},
          "output_type": "execute_result"
        }
      ],
      "source": [
        "# Determine the number of unique values in each column.\n",
        "attrition_df.nunique()"
      ]
    },
    {
      "cell_type": "code",
      "execution_count": 33,
      "metadata": {},
      "outputs": [
        {
          "data": {
            "text/plain": [
              "Attrition\n",
              "No     1233\n",
              "Yes     237\n",
              "Name: count, dtype: int64"
            ]
          },
          "execution_count": 33,
          "metadata": {},
          "output_type": "execute_result"
        }
      ],
      "source": [
        "# breakdown of Attrition column values\n",
        "attrition_df['Attrition'].value_counts()"
      ]
    },
    {
      "cell_type": "code",
      "execution_count": 3,
      "metadata": {
        "id": "50vMgBEnJbfM"
      },
      "outputs": [
        {
          "data": {
            "text/html": [
              "<div>\n",
              "<style scoped>\n",
              "    .dataframe tbody tr th:only-of-type {\n",
              "        vertical-align: middle;\n",
              "    }\n",
              "\n",
              "    .dataframe tbody tr th {\n",
              "        vertical-align: top;\n",
              "    }\n",
              "\n",
              "    .dataframe thead th {\n",
              "        text-align: right;\n",
              "    }\n",
              "</style>\n",
              "<table border=\"1\" class=\"dataframe\">\n",
              "  <thead>\n",
              "    <tr style=\"text-align: right;\">\n",
              "      <th></th>\n",
              "      <th>Attrition</th>\n",
              "      <th>Department</th>\n",
              "    </tr>\n",
              "  </thead>\n",
              "  <tbody>\n",
              "    <tr>\n",
              "      <th>0</th>\n",
              "      <td>Yes</td>\n",
              "      <td>Sales</td>\n",
              "    </tr>\n",
              "    <tr>\n",
              "      <th>1</th>\n",
              "      <td>No</td>\n",
              "      <td>Research &amp; Development</td>\n",
              "    </tr>\n",
              "    <tr>\n",
              "      <th>2</th>\n",
              "      <td>Yes</td>\n",
              "      <td>Research &amp; Development</td>\n",
              "    </tr>\n",
              "    <tr>\n",
              "      <th>3</th>\n",
              "      <td>No</td>\n",
              "      <td>Research &amp; Development</td>\n",
              "    </tr>\n",
              "    <tr>\n",
              "      <th>4</th>\n",
              "      <td>No</td>\n",
              "      <td>Research &amp; Development</td>\n",
              "    </tr>\n",
              "  </tbody>\n",
              "</table>\n",
              "</div>"
            ],
            "text/plain": [
              "  Attrition              Department\n",
              "0       Yes                   Sales\n",
              "1        No  Research & Development\n",
              "2       Yes  Research & Development\n",
              "3        No  Research & Development\n",
              "4        No  Research & Development"
            ]
          },
          "execution_count": 3,
          "metadata": {},
          "output_type": "execute_result"
        }
      ],
      "source": [
        "# Create y_df with the Attrition and Department columns \n",
        "y_df = attrition_df[['Attrition', 'Department']]\n",
        "y_df.head()\n",
        "\n"
      ]
    },
    {
      "cell_type": "code",
      "execution_count": 4,
      "metadata": {
        "colab": {
          "base_uri": "https://localhost:8080/"
        },
        "id": "Virka0zLGc3R",
        "outputId": "dd5aee3a-9458-4ba6-e857-1b234de40915"
      },
      "outputs": [
        {
          "data": {
            "text/plain": [
              "Education                   int64\n",
              "Age                         int64\n",
              "OverTime                   object\n",
              "DistanceFromHome            int64\n",
              "YearsAtCompany              int64\n",
              "YearsInCurrentRole          int64\n",
              "YearsSinceLastPromotion     int64\n",
              "YearsWithCurrManager        int64\n",
              "JobSatisfaction             int64\n",
              "WorkLifeBalance             int64\n",
              "dtype: object"
            ]
          },
          "execution_count": 4,
          "metadata": {},
          "output_type": "execute_result"
        }
      ],
      "source": [
        "# Create a list of at least 10 column names to use as X data \n",
        "columns = ['Education','Age', 'OverTime', 'DistanceFromHome', 'YearsAtCompany', 'YearsInCurrentRole', 'YearsSinceLastPromotion', 'YearsWithCurrManager', 'JobSatisfaction', 'WorkLifeBalance']\n",
        "\n",
        "\n",
        "\n",
        "# Create X_df using your selected columns\n",
        "\n",
        "X_df = attrition_df[columns]\n",
        "\n",
        "# Show the data types for X_df\n",
        "X_df.dtypes\n"
      ]
    },
    {
      "cell_type": "code",
      "execution_count": 5,
      "metadata": {
        "id": "KaJfdOGUMHMR"
      },
      "outputs": [
        {
          "name": "stdout",
          "output_type": "stream",
          "text": [
            "<class 'pandas.core.frame.DataFrame'>\n",
            "Index: 1102 entries, 591 to 709\n",
            "Data columns (total 10 columns):\n",
            " #   Column                   Non-Null Count  Dtype \n",
            "---  ------                   --------------  ----- \n",
            " 0   Education                1102 non-null   int64 \n",
            " 1   Age                      1102 non-null   int64 \n",
            " 2   OverTime                 1102 non-null   object\n",
            " 3   DistanceFromHome         1102 non-null   int64 \n",
            " 4   YearsAtCompany           1102 non-null   int64 \n",
            " 5   YearsInCurrentRole       1102 non-null   int64 \n",
            " 6   YearsSinceLastPromotion  1102 non-null   int64 \n",
            " 7   YearsWithCurrManager     1102 non-null   int64 \n",
            " 8   JobSatisfaction          1102 non-null   int64 \n",
            " 9   WorkLifeBalance          1102 non-null   int64 \n",
            "dtypes: int64(9), object(1)\n",
            "memory usage: 94.7+ KB\n"
          ]
        }
      ],
      "source": [
        "# Split the data into training and testing sets\n",
        "from sklearn.model_selection import train_test_split \n",
        "X_train, X_test, y_train, y_test = train_test_split(X_df, y_df, random_state=78)\n",
        "\n",
        "X_train.info()\n",
        "\n"
      ]
    },
    {
      "cell_type": "code",
      "execution_count": 6,
      "metadata": {
        "colab": {
          "base_uri": "https://localhost:8080/"
        },
        "id": "NYubUJqiLCSp",
        "outputId": "53f31721-571c-4c94-d13e-25a715749593"
      },
      "outputs": [
        {
          "name": "stdout",
          "output_type": "stream",
          "text": [
            "<class 'pandas.core.frame.DataFrame'>\n",
            "Index: 1102 entries, 591 to 709\n",
            "Data columns (total 10 columns):\n",
            " #   Column                   Non-Null Count  Dtype\n",
            "---  ------                   --------------  -----\n",
            " 0   Education                1102 non-null   int64\n",
            " 1   Age                      1102 non-null   int64\n",
            " 2   OverTime                 1102 non-null   int64\n",
            " 3   DistanceFromHome         1102 non-null   int64\n",
            " 4   YearsAtCompany           1102 non-null   int64\n",
            " 5   YearsInCurrentRole       1102 non-null   int64\n",
            " 6   YearsSinceLastPromotion  1102 non-null   int64\n",
            " 7   YearsWithCurrManager     1102 non-null   int64\n",
            " 8   JobSatisfaction          1102 non-null   int64\n",
            " 9   WorkLifeBalance          1102 non-null   int64\n",
            "dtypes: int64(10)\n",
            "memory usage: 94.7 KB\n"
          ]
        },
        {
          "name": "stderr",
          "output_type": "stream",
          "text": [
            "/var/folders/b_/hfr4p_vs0nq_qyzqdx8n584m0000gn/T/ipykernel_94592/2647627121.py:5: FutureWarning: Downcasting behavior in `replace` is deprecated and will be removed in a future version. To retain the old behavior, explicitly call `result.infer_objects(copy=False)`. To opt-in to the future behavior, set `pd.set_option('future.no_silent_downcasting', True)`\n",
            "  X_train['OverTime'] = X_train['OverTime'].replace({'Yes': 1, 'No': 0})\n",
            "/var/folders/b_/hfr4p_vs0nq_qyzqdx8n584m0000gn/T/ipykernel_94592/2647627121.py:6: FutureWarning: Downcasting behavior in `replace` is deprecated and will be removed in a future version. To retain the old behavior, explicitly call `result.infer_objects(copy=False)`. To opt-in to the future behavior, set `pd.set_option('future.no_silent_downcasting', True)`\n",
            "  X_test['OverTime'] = X_test['OverTime'].replace({'Yes': 1, 'No': 0})\n"
          ]
        }
      ],
      "source": [
        "# Convert your X data to numeric data types however you see fit\n",
        "# Add new code cells as necessary\n",
        "\n",
        "# only OverTime is not numeric so we will convert it to numeric\n",
        "X_train['OverTime'] = X_train['OverTime'].replace({'Yes': 1, 'No': 0})\n",
        "X_test['OverTime'] = X_test['OverTime'].replace({'Yes': 1, 'No': 0})\n",
        "\n",
        "X_train.info()\n"
      ]
    },
    {
      "cell_type": "code",
      "execution_count": 7,
      "metadata": {
        "id": "EWA-aIA5Gc3T"
      },
      "outputs": [],
      "source": [
        "# Create a StandardScaler \n",
        "scaler = StandardScaler()\n",
        "\n",
        "# Fit the StandardScaler to the training data \n",
        "X_scaler = scaler.fit(X_train)\n",
        "\n",
        "\n",
        "# Scale the training and testing data\n",
        "X_train_scaled = X_scaler.transform(X_train)\n",
        "\n"
      ]
    },
    {
      "cell_type": "code",
      "execution_count": 8,
      "metadata": {
        "colab": {
          "base_uri": "https://localhost:8080/"
        },
        "id": "-z0Mky8vQSz4",
        "outputId": "debefc85-c20b-48f5-f4d9-91eadd65d36a"
      },
      "outputs": [
        {
          "data": {
            "text/plain": [
              "array([[0., 0., 1.],\n",
              "       [0., 1., 0.],\n",
              "       [0., 0., 1.],\n",
              "       [0., 1., 0.],\n",
              "       [0., 1., 0.]])"
            ]
          },
          "execution_count": 8,
          "metadata": {},
          "output_type": "execute_result"
        }
      ],
      "source": [
        "# Create a OneHotEncoder for the Department column \n",
        "from sklearn.preprocessing import OneHotEncoder\n",
        "enc = OneHotEncoder(sparse_output=False) \n",
        "\n",
        "# Fit the encoder to the training data\n",
        "department_encoded = enc.fit(y_train[['Department']]) \n",
        "\n",
        "# Create two new variables by applying the encoder \n",
        "# to the training and testing data \n",
        "department_train = department_encoded.transform(y_train[['Department']])\n",
        "department_test = department_encoded.transform(y_test[['Department']])\n",
        "department_train[:5]\n",
        "\n",
        "\n"
      ]
    },
    {
      "cell_type": "code",
      "execution_count": 9,
      "metadata": {
        "colab": {
          "base_uri": "https://localhost:8080/"
        },
        "id": "-G4DSpvFRrk4",
        "outputId": "9842e948-8a55-4b80-8fac-f96714e85589"
      },
      "outputs": [
        {
          "data": {
            "text/plain": [
              "array([[0., 1.],\n",
              "       [1., 0.],\n",
              "       [0., 1.],\n",
              "       [1., 0.],\n",
              "       [1., 0.]])"
            ]
          },
          "execution_count": 9,
          "metadata": {},
          "output_type": "execute_result"
        }
      ],
      "source": [
        "# Create a OneHotEncoder for the Attrition column \n",
        "\n",
        "\n",
        "# Fit the encoder to the training data \n",
        "attrition_encoded = enc.fit(y_train[['Attrition']])\n",
        "\n",
        "\n",
        "# Create two new variables by applying the encoder \n",
        "# to the training and testing data \n",
        "attrition_train = attrition_encoded.transform(y_train[['Attrition']])\n",
        "attrition_test = attrition_encoded.transform(y_test[['Attrition']])\n",
        "attrition_train[:5]\n",
        "\n"
      ]
    },
    {
      "cell_type": "markdown",
      "metadata": {
        "id": "ykNmu_WWGc3T"
      },
      "source": [
        "## Create, Compile, and Train the Model"
      ]
    },
    {
      "cell_type": "code",
      "execution_count": 16,
      "metadata": {
        "id": "WUptZqmSGc3T"
      },
      "outputs": [],
      "source": [
        "# Find the number of columns in the X training data \n",
        "\n",
        "# Create the input layer \n",
        "input_layer = layers.Input(shape=(X_train.shape[1],), name = 'input')\n",
        "\n",
        "# Create at least two shared layers\n",
        "shared_layer1 = layers.Dense(64, activation='relu', name = 'shared1')(input_layer)\n",
        "shared_layer2 = layers.Dense(32, activation='relu', name = 'shared2')(shared_layer1)\n",
        "\n"
      ]
    },
    {
      "cell_type": "code",
      "execution_count": 18,
      "metadata": {
        "id": "JukjTm2yTEqd"
      },
      "outputs": [],
      "source": [
        "# Create a branch for Department\n",
        "# with a hidden layer and an output layer \n",
        "department_branch = layers.Dense(16, activation='relu', name = 'dept')(shared_layer2) \n",
        "\n",
        "\n",
        "# Create the hidden layer \n",
        "department_hidden = layers.Dense(8, activation='relu', name = 'dept_hidden')(department_branch)\n",
        "\n",
        "\n",
        "# Create the output layer \n",
        "department_output = layers.Dense(department_train.shape[1], activation='softmax', name='department')(department_hidden)\n",
        "\n",
        "\n"
      ]
    },
    {
      "cell_type": "code",
      "execution_count": 19,
      "metadata": {
        "id": "9OqhUiOJUBkR"
      },
      "outputs": [],
      "source": [
        "# Create a branch for Attrition\n",
        "# with a hidden layer and an output layer \n",
        "attrition_branch = layers.Dense(16, activation='relu', name = 'attr')(shared_layer2)\n",
        "\n",
        "# Create the hidden layer \n",
        "attrition_hidden = layers.Dense(8, activation='relu', name = 'attr_hidden')(attrition_branch)\n",
        "\n",
        "\n",
        "# Create the output layer \n",
        "attrition_output = layers.Dense(units=attrition_train.shape[1], activation='softmax', name='attrition')(attrition_hidden)\n",
        "\n"
      ]
    },
    {
      "cell_type": "code",
      "execution_count": 22,
      "metadata": {
        "colab": {
          "base_uri": "https://localhost:8080/"
        },
        "id": "twmuejdxGc3T",
        "outputId": "25096308-b68b-42e4-e4ea-ae82e97c435a"
      },
      "outputs": [
        {
          "data": {
            "text/html": [
              "<pre style=\"white-space:pre;overflow-x:auto;line-height:normal;font-family:Menlo,'DejaVu Sans Mono',consolas,'Courier New',monospace\"><span style=\"font-weight: bold\">Model: \"functional_2\"</span>\n",
              "</pre>\n"
            ],
            "text/plain": [
              "\u001b[1mModel: \"functional_2\"\u001b[0m\n"
            ]
          },
          "metadata": {},
          "output_type": "display_data"
        },
        {
          "data": {
            "text/html": [
              "<pre style=\"white-space:pre;overflow-x:auto;line-height:normal;font-family:Menlo,'DejaVu Sans Mono',consolas,'Courier New',monospace\">┏━━━━━━━━━━━━━━━━━━━━━┳━━━━━━━━━━━━━━━━━━━┳━━━━━━━━━━━━┳━━━━━━━━━━━━━━━━━━━┓\n",
              "┃<span style=\"font-weight: bold\"> Layer (type)        </span>┃<span style=\"font-weight: bold\"> Output Shape      </span>┃<span style=\"font-weight: bold\">    Param # </span>┃<span style=\"font-weight: bold\"> Connected to      </span>┃\n",
              "┡━━━━━━━━━━━━━━━━━━━━━╇━━━━━━━━━━━━━━━━━━━╇━━━━━━━━━━━━╇━━━━━━━━━━━━━━━━━━━┩\n",
              "│ input (<span style=\"color: #0087ff; text-decoration-color: #0087ff\">InputLayer</span>)  │ (<span style=\"color: #00d7ff; text-decoration-color: #00d7ff\">None</span>, <span style=\"color: #00af00; text-decoration-color: #00af00\">10</span>)        │          <span style=\"color: #00af00; text-decoration-color: #00af00\">0</span> │ -                 │\n",
              "├─────────────────────┼───────────────────┼────────────┼───────────────────┤\n",
              "│ shared1 (<span style=\"color: #0087ff; text-decoration-color: #0087ff\">Dense</span>)     │ (<span style=\"color: #00d7ff; text-decoration-color: #00d7ff\">None</span>, <span style=\"color: #00af00; text-decoration-color: #00af00\">64</span>)        │        <span style=\"color: #00af00; text-decoration-color: #00af00\">704</span> │ input[<span style=\"color: #00af00; text-decoration-color: #00af00\">0</span>][<span style=\"color: #00af00; text-decoration-color: #00af00\">0</span>]       │\n",
              "├─────────────────────┼───────────────────┼────────────┼───────────────────┤\n",
              "│ shared2 (<span style=\"color: #0087ff; text-decoration-color: #0087ff\">Dense</span>)     │ (<span style=\"color: #00d7ff; text-decoration-color: #00d7ff\">None</span>, <span style=\"color: #00af00; text-decoration-color: #00af00\">32</span>)        │      <span style=\"color: #00af00; text-decoration-color: #00af00\">2,080</span> │ shared1[<span style=\"color: #00af00; text-decoration-color: #00af00\">0</span>][<span style=\"color: #00af00; text-decoration-color: #00af00\">0</span>]     │\n",
              "├─────────────────────┼───────────────────┼────────────┼───────────────────┤\n",
              "│ dept (<span style=\"color: #0087ff; text-decoration-color: #0087ff\">Dense</span>)        │ (<span style=\"color: #00d7ff; text-decoration-color: #00d7ff\">None</span>, <span style=\"color: #00af00; text-decoration-color: #00af00\">16</span>)        │        <span style=\"color: #00af00; text-decoration-color: #00af00\">528</span> │ shared2[<span style=\"color: #00af00; text-decoration-color: #00af00\">0</span>][<span style=\"color: #00af00; text-decoration-color: #00af00\">0</span>]     │\n",
              "├─────────────────────┼───────────────────┼────────────┼───────────────────┤\n",
              "│ attr (<span style=\"color: #0087ff; text-decoration-color: #0087ff\">Dense</span>)        │ (<span style=\"color: #00d7ff; text-decoration-color: #00d7ff\">None</span>, <span style=\"color: #00af00; text-decoration-color: #00af00\">16</span>)        │        <span style=\"color: #00af00; text-decoration-color: #00af00\">528</span> │ shared2[<span style=\"color: #00af00; text-decoration-color: #00af00\">0</span>][<span style=\"color: #00af00; text-decoration-color: #00af00\">0</span>]     │\n",
              "├─────────────────────┼───────────────────┼────────────┼───────────────────┤\n",
              "│ dept_hidden (<span style=\"color: #0087ff; text-decoration-color: #0087ff\">Dense</span>) │ (<span style=\"color: #00d7ff; text-decoration-color: #00d7ff\">None</span>, <span style=\"color: #00af00; text-decoration-color: #00af00\">8</span>)         │        <span style=\"color: #00af00; text-decoration-color: #00af00\">136</span> │ dept[<span style=\"color: #00af00; text-decoration-color: #00af00\">0</span>][<span style=\"color: #00af00; text-decoration-color: #00af00\">0</span>]        │\n",
              "├─────────────────────┼───────────────────┼────────────┼───────────────────┤\n",
              "│ attr_hidden (<span style=\"color: #0087ff; text-decoration-color: #0087ff\">Dense</span>) │ (<span style=\"color: #00d7ff; text-decoration-color: #00d7ff\">None</span>, <span style=\"color: #00af00; text-decoration-color: #00af00\">8</span>)         │        <span style=\"color: #00af00; text-decoration-color: #00af00\">136</span> │ attr[<span style=\"color: #00af00; text-decoration-color: #00af00\">0</span>][<span style=\"color: #00af00; text-decoration-color: #00af00\">0</span>]        │\n",
              "├─────────────────────┼───────────────────┼────────────┼───────────────────┤\n",
              "│ department (<span style=\"color: #0087ff; text-decoration-color: #0087ff\">Dense</span>)  │ (<span style=\"color: #00d7ff; text-decoration-color: #00d7ff\">None</span>, <span style=\"color: #00af00; text-decoration-color: #00af00\">3</span>)         │         <span style=\"color: #00af00; text-decoration-color: #00af00\">27</span> │ dept_hidden[<span style=\"color: #00af00; text-decoration-color: #00af00\">0</span>][<span style=\"color: #00af00; text-decoration-color: #00af00\">0</span>] │\n",
              "├─────────────────────┼───────────────────┼────────────┼───────────────────┤\n",
              "│ attrition (<span style=\"color: #0087ff; text-decoration-color: #0087ff\">Dense</span>)   │ (<span style=\"color: #00d7ff; text-decoration-color: #00d7ff\">None</span>, <span style=\"color: #00af00; text-decoration-color: #00af00\">2</span>)         │         <span style=\"color: #00af00; text-decoration-color: #00af00\">18</span> │ attr_hidden[<span style=\"color: #00af00; text-decoration-color: #00af00\">0</span>][<span style=\"color: #00af00; text-decoration-color: #00af00\">0</span>] │\n",
              "└─────────────────────┴───────────────────┴────────────┴───────────────────┘\n",
              "</pre>\n"
            ],
            "text/plain": [
              "┏━━━━━━━━━━━━━━━━━━━━━┳━━━━━━━━━━━━━━━━━━━┳━━━━━━━━━━━━┳━━━━━━━━━━━━━━━━━━━┓\n",
              "┃\u001b[1m \u001b[0m\u001b[1mLayer (type)       \u001b[0m\u001b[1m \u001b[0m┃\u001b[1m \u001b[0m\u001b[1mOutput Shape     \u001b[0m\u001b[1m \u001b[0m┃\u001b[1m \u001b[0m\u001b[1m   Param #\u001b[0m\u001b[1m \u001b[0m┃\u001b[1m \u001b[0m\u001b[1mConnected to     \u001b[0m\u001b[1m \u001b[0m┃\n",
              "┡━━━━━━━━━━━━━━━━━━━━━╇━━━━━━━━━━━━━━━━━━━╇━━━━━━━━━━━━╇━━━━━━━━━━━━━━━━━━━┩\n",
              "│ input (\u001b[38;5;33mInputLayer\u001b[0m)  │ (\u001b[38;5;45mNone\u001b[0m, \u001b[38;5;34m10\u001b[0m)        │          \u001b[38;5;34m0\u001b[0m │ -                 │\n",
              "├─────────────────────┼───────────────────┼────────────┼───────────────────┤\n",
              "│ shared1 (\u001b[38;5;33mDense\u001b[0m)     │ (\u001b[38;5;45mNone\u001b[0m, \u001b[38;5;34m64\u001b[0m)        │        \u001b[38;5;34m704\u001b[0m │ input[\u001b[38;5;34m0\u001b[0m][\u001b[38;5;34m0\u001b[0m]       │\n",
              "├─────────────────────┼───────────────────┼────────────┼───────────────────┤\n",
              "│ shared2 (\u001b[38;5;33mDense\u001b[0m)     │ (\u001b[38;5;45mNone\u001b[0m, \u001b[38;5;34m32\u001b[0m)        │      \u001b[38;5;34m2,080\u001b[0m │ shared1[\u001b[38;5;34m0\u001b[0m][\u001b[38;5;34m0\u001b[0m]     │\n",
              "├─────────────────────┼───────────────────┼────────────┼───────────────────┤\n",
              "│ dept (\u001b[38;5;33mDense\u001b[0m)        │ (\u001b[38;5;45mNone\u001b[0m, \u001b[38;5;34m16\u001b[0m)        │        \u001b[38;5;34m528\u001b[0m │ shared2[\u001b[38;5;34m0\u001b[0m][\u001b[38;5;34m0\u001b[0m]     │\n",
              "├─────────────────────┼───────────────────┼────────────┼───────────────────┤\n",
              "│ attr (\u001b[38;5;33mDense\u001b[0m)        │ (\u001b[38;5;45mNone\u001b[0m, \u001b[38;5;34m16\u001b[0m)        │        \u001b[38;5;34m528\u001b[0m │ shared2[\u001b[38;5;34m0\u001b[0m][\u001b[38;5;34m0\u001b[0m]     │\n",
              "├─────────────────────┼───────────────────┼────────────┼───────────────────┤\n",
              "│ dept_hidden (\u001b[38;5;33mDense\u001b[0m) │ (\u001b[38;5;45mNone\u001b[0m, \u001b[38;5;34m8\u001b[0m)         │        \u001b[38;5;34m136\u001b[0m │ dept[\u001b[38;5;34m0\u001b[0m][\u001b[38;5;34m0\u001b[0m]        │\n",
              "├─────────────────────┼───────────────────┼────────────┼───────────────────┤\n",
              "│ attr_hidden (\u001b[38;5;33mDense\u001b[0m) │ (\u001b[38;5;45mNone\u001b[0m, \u001b[38;5;34m8\u001b[0m)         │        \u001b[38;5;34m136\u001b[0m │ attr[\u001b[38;5;34m0\u001b[0m][\u001b[38;5;34m0\u001b[0m]        │\n",
              "├─────────────────────┼───────────────────┼────────────┼───────────────────┤\n",
              "│ department (\u001b[38;5;33mDense\u001b[0m)  │ (\u001b[38;5;45mNone\u001b[0m, \u001b[38;5;34m3\u001b[0m)         │         \u001b[38;5;34m27\u001b[0m │ dept_hidden[\u001b[38;5;34m0\u001b[0m][\u001b[38;5;34m0\u001b[0m] │\n",
              "├─────────────────────┼───────────────────┼────────────┼───────────────────┤\n",
              "│ attrition (\u001b[38;5;33mDense\u001b[0m)   │ (\u001b[38;5;45mNone\u001b[0m, \u001b[38;5;34m2\u001b[0m)         │         \u001b[38;5;34m18\u001b[0m │ attr_hidden[\u001b[38;5;34m0\u001b[0m][\u001b[38;5;34m0\u001b[0m] │\n",
              "└─────────────────────┴───────────────────┴────────────┴───────────────────┘\n"
            ]
          },
          "metadata": {},
          "output_type": "display_data"
        },
        {
          "data": {
            "text/html": [
              "<pre style=\"white-space:pre;overflow-x:auto;line-height:normal;font-family:Menlo,'DejaVu Sans Mono',consolas,'Courier New',monospace\"><span style=\"font-weight: bold\"> Total params: </span><span style=\"color: #00af00; text-decoration-color: #00af00\">4,157</span> (16.24 KB)\n",
              "</pre>\n"
            ],
            "text/plain": [
              "\u001b[1m Total params: \u001b[0m\u001b[38;5;34m4,157\u001b[0m (16.24 KB)\n"
            ]
          },
          "metadata": {},
          "output_type": "display_data"
        },
        {
          "data": {
            "text/html": [
              "<pre style=\"white-space:pre;overflow-x:auto;line-height:normal;font-family:Menlo,'DejaVu Sans Mono',consolas,'Courier New',monospace\"><span style=\"font-weight: bold\"> Trainable params: </span><span style=\"color: #00af00; text-decoration-color: #00af00\">4,157</span> (16.24 KB)\n",
              "</pre>\n"
            ],
            "text/plain": [
              "\u001b[1m Trainable params: \u001b[0m\u001b[38;5;34m4,157\u001b[0m (16.24 KB)\n"
            ]
          },
          "metadata": {},
          "output_type": "display_data"
        },
        {
          "data": {
            "text/html": [
              "<pre style=\"white-space:pre;overflow-x:auto;line-height:normal;font-family:Menlo,'DejaVu Sans Mono',consolas,'Courier New',monospace\"><span style=\"font-weight: bold\"> Non-trainable params: </span><span style=\"color: #00af00; text-decoration-color: #00af00\">0</span> (0.00 B)\n",
              "</pre>\n"
            ],
            "text/plain": [
              "\u001b[1m Non-trainable params: \u001b[0m\u001b[38;5;34m0\u001b[0m (0.00 B)\n"
            ]
          },
          "metadata": {},
          "output_type": "display_data"
        }
      ],
      "source": [
        "# Create the model \n",
        "model = Model(inputs=input_layer, outputs=[department_output, attrition_output])\n",
        "\n",
        "\n",
        "# Compile the model \n",
        "model.compile(optimizer='adam', loss='categorical_crossentropy', metrics=['accuracy', 'accuracy'])\n",
        "\n",
        "\n",
        "# Summarize the model \n",
        "model.summary()\n"
      ]
    },
    {
      "cell_type": "code",
      "execution_count": 30,
      "metadata": {
        "colab": {
          "base_uri": "https://localhost:8080/"
        },
        "id": "c8oGy0dpGc3U",
        "outputId": "cc667d43-28cf-42d4-d719-c2bc02888d30"
      },
      "outputs": [
        {
          "name": "stdout",
          "output_type": "stream",
          "text": [
            "Epoch 1/100\n",
            "\u001b[1m28/28\u001b[0m \u001b[32m━━━━━━━━━━━━━━━━━━━━\u001b[0m\u001b[37m\u001b[0m \u001b[1m0s\u001b[0m 4ms/step - attrition_accuracy: 0.9844 - attrition_loss: 0.0607 - department_accuracy: 0.9434 - department_loss: 0.1890 - loss: 0.2498 - val_attrition_accuracy: 0.7873 - val_attrition_loss: 0.8288 - val_department_accuracy: 0.5294 - val_department_loss: 1.5133 - val_loss: 2.3489\n",
            "Epoch 2/100\n",
            "\u001b[1m28/28\u001b[0m \u001b[32m━━━━━━━━━━━━━━━━━━━━\u001b[0m\u001b[37m\u001b[0m \u001b[1m0s\u001b[0m 3ms/step - attrition_accuracy: 0.9831 - attrition_loss: 0.0627 - department_accuracy: 0.9296 - department_loss: 0.1965 - loss: 0.2591 - val_attrition_accuracy: 0.7783 - val_attrition_loss: 0.8409 - val_department_accuracy: 0.5339 - val_department_loss: 1.5365 - val_loss: 2.3843\n",
            "Epoch 3/100\n",
            "\u001b[1m28/28\u001b[0m \u001b[32m━━━━━━━━━━━━━━━━━━━━\u001b[0m\u001b[37m\u001b[0m \u001b[1m0s\u001b[0m 3ms/step - attrition_accuracy: 0.9804 - attrition_loss: 0.0638 - department_accuracy: 0.9404 - department_loss: 0.1820 - loss: 0.2459 - val_attrition_accuracy: 0.7783 - val_attrition_loss: 0.9153 - val_department_accuracy: 0.5475 - val_department_loss: 1.6247 - val_loss: 2.5502\n",
            "Epoch 4/100\n",
            "\u001b[1m28/28\u001b[0m \u001b[32m━━━━━━━━━━━━━━━━━━━━\u001b[0m\u001b[37m\u001b[0m \u001b[1m0s\u001b[0m 3ms/step - attrition_accuracy: 0.9701 - attrition_loss: 0.0862 - department_accuracy: 0.9421 - department_loss: 0.1838 - loss: 0.2700 - val_attrition_accuracy: 0.7692 - val_attrition_loss: 0.9254 - val_department_accuracy: 0.5113 - val_department_loss: 1.5980 - val_loss: 2.5305\n",
            "Epoch 5/100\n",
            "\u001b[1m28/28\u001b[0m \u001b[32m━━━━━━━━━━━━━━━━━━━━\u001b[0m\u001b[37m\u001b[0m \u001b[1m0s\u001b[0m 3ms/step - attrition_accuracy: 0.9664 - attrition_loss: 0.0781 - department_accuracy: 0.9528 - department_loss: 0.1778 - loss: 0.2560 - val_attrition_accuracy: 0.7919 - val_attrition_loss: 0.8308 - val_department_accuracy: 0.5611 - val_department_loss: 1.6276 - val_loss: 2.4631\n",
            "Epoch 6/100\n",
            "\u001b[1m28/28\u001b[0m \u001b[32m━━━━━━━━━━━━━━━━━━━━\u001b[0m\u001b[37m\u001b[0m \u001b[1m0s\u001b[0m 3ms/step - attrition_accuracy: 0.9827 - attrition_loss: 0.0574 - department_accuracy: 0.9272 - department_loss: 0.2074 - loss: 0.2649 - val_attrition_accuracy: 0.7828 - val_attrition_loss: 0.8738 - val_department_accuracy: 0.5566 - val_department_loss: 1.6083 - val_loss: 2.4890\n",
            "Epoch 7/100\n",
            "\u001b[1m28/28\u001b[0m \u001b[32m━━━━━━━━━━━━━━━━━━━━\u001b[0m\u001b[37m\u001b[0m \u001b[1m0s\u001b[0m 4ms/step - attrition_accuracy: 0.9842 - attrition_loss: 0.0627 - department_accuracy: 0.9422 - department_loss: 0.1772 - loss: 0.2399 - val_attrition_accuracy: 0.7738 - val_attrition_loss: 0.9181 - val_department_accuracy: 0.5430 - val_department_loss: 1.6091 - val_loss: 2.5367\n",
            "Epoch 8/100\n",
            "\u001b[1m28/28\u001b[0m \u001b[32m━━━━━━━━━━━━━━━━━━━━\u001b[0m\u001b[37m\u001b[0m \u001b[1m0s\u001b[0m 3ms/step - attrition_accuracy: 0.9794 - attrition_loss: 0.0604 - department_accuracy: 0.9474 - department_loss: 0.1711 - loss: 0.2317 - val_attrition_accuracy: 0.7873 - val_attrition_loss: 0.8897 - val_department_accuracy: 0.5520 - val_department_loss: 1.6840 - val_loss: 2.5806\n",
            "Epoch 9/100\n",
            "\u001b[1m28/28\u001b[0m \u001b[32m━━━━━━━━━━━━━━━━━━━━\u001b[0m\u001b[37m\u001b[0m \u001b[1m0s\u001b[0m 3ms/step - attrition_accuracy: 0.9833 - attrition_loss: 0.0579 - department_accuracy: 0.9485 - department_loss: 0.1779 - loss: 0.2356 - val_attrition_accuracy: 0.7602 - val_attrition_loss: 0.9998 - val_department_accuracy: 0.5475 - val_department_loss: 1.6374 - val_loss: 2.6471\n",
            "Epoch 10/100\n",
            "\u001b[1m28/28\u001b[0m \u001b[32m━━━━━━━━━━━━━━━━━━━━\u001b[0m\u001b[37m\u001b[0m \u001b[1m0s\u001b[0m 3ms/step - attrition_accuracy: 0.9790 - attrition_loss: 0.0585 - department_accuracy: 0.9481 - department_loss: 0.1692 - loss: 0.2275 - val_attrition_accuracy: 0.7783 - val_attrition_loss: 0.9823 - val_department_accuracy: 0.5023 - val_department_loss: 1.6877 - val_loss: 2.6753\n",
            "Epoch 11/100\n",
            "\u001b[1m28/28\u001b[0m \u001b[32m━━━━━━━━━━━━━━━━━━━━\u001b[0m\u001b[37m\u001b[0m \u001b[1m0s\u001b[0m 3ms/step - attrition_accuracy: 0.9880 - attrition_loss: 0.0500 - department_accuracy: 0.9317 - department_loss: 0.1842 - loss: 0.2343 - val_attrition_accuracy: 0.7873 - val_attrition_loss: 0.9587 - val_department_accuracy: 0.5792 - val_department_loss: 1.7326 - val_loss: 2.6994\n",
            "Epoch 12/100\n",
            "\u001b[1m28/28\u001b[0m \u001b[32m━━━━━━━━━━━━━━━━━━━━\u001b[0m\u001b[37m\u001b[0m \u001b[1m0s\u001b[0m 3ms/step - attrition_accuracy: 0.9784 - attrition_loss: 0.0618 - department_accuracy: 0.9354 - department_loss: 0.1755 - loss: 0.2373 - val_attrition_accuracy: 0.7602 - val_attrition_loss: 1.0126 - val_department_accuracy: 0.5158 - val_department_loss: 1.7073 - val_loss: 2.7279\n",
            "Epoch 13/100\n",
            "\u001b[1m28/28\u001b[0m \u001b[32m━━━━━━━━━━━━━━━━━━━━\u001b[0m\u001b[37m\u001b[0m \u001b[1m0s\u001b[0m 3ms/step - attrition_accuracy: 0.9733 - attrition_loss: 0.0716 - department_accuracy: 0.9543 - department_loss: 0.1562 - loss: 0.2277 - val_attrition_accuracy: 0.7828 - val_attrition_loss: 0.9523 - val_department_accuracy: 0.5294 - val_department_loss: 1.6777 - val_loss: 2.6392\n",
            "Epoch 14/100\n",
            "\u001b[1m28/28\u001b[0m \u001b[32m━━━━━━━━━━━━━━━━━━━━\u001b[0m\u001b[37m\u001b[0m \u001b[1m0s\u001b[0m 6ms/step - attrition_accuracy: 0.9843 - attrition_loss: 0.0555 - department_accuracy: 0.9432 - department_loss: 0.1628 - loss: 0.2184 - val_attrition_accuracy: 0.7738 - val_attrition_loss: 1.0420 - val_department_accuracy: 0.5520 - val_department_loss: 1.7514 - val_loss: 2.8002\n",
            "Epoch 15/100\n",
            "\u001b[1m28/28\u001b[0m \u001b[32m━━━━━━━━━━━━━━━━━━━━\u001b[0m\u001b[37m\u001b[0m \u001b[1m0s\u001b[0m 3ms/step - attrition_accuracy: 0.9858 - attrition_loss: 0.0451 - department_accuracy: 0.9610 - department_loss: 0.1459 - loss: 0.1910 - val_attrition_accuracy: 0.7738 - val_attrition_loss: 1.0631 - val_department_accuracy: 0.5294 - val_department_loss: 1.7438 - val_loss: 2.8171\n",
            "Epoch 16/100\n",
            "\u001b[1m28/28\u001b[0m \u001b[32m━━━━━━━━━━━━━━━━━━━━\u001b[0m\u001b[37m\u001b[0m \u001b[1m0s\u001b[0m 3ms/step - attrition_accuracy: 0.9752 - attrition_loss: 0.0660 - department_accuracy: 0.9606 - department_loss: 0.1492 - loss: 0.2151 - val_attrition_accuracy: 0.7738 - val_attrition_loss: 1.0579 - val_department_accuracy: 0.5339 - val_department_loss: 1.7974 - val_loss: 2.8662\n",
            "Epoch 17/100\n",
            "\u001b[1m28/28\u001b[0m \u001b[32m━━━━━━━━━━━━━━━━━━━━\u001b[0m\u001b[37m\u001b[0m \u001b[1m0s\u001b[0m 3ms/step - attrition_accuracy: 0.9887 - attrition_loss: 0.0430 - department_accuracy: 0.9552 - department_loss: 0.1544 - loss: 0.1975 - val_attrition_accuracy: 0.7602 - val_attrition_loss: 1.1450 - val_department_accuracy: 0.5339 - val_department_loss: 1.7273 - val_loss: 2.8826\n",
            "Epoch 18/100\n",
            "\u001b[1m28/28\u001b[0m \u001b[32m━━━━━━━━━━━━━━━━━━━━\u001b[0m\u001b[37m\u001b[0m \u001b[1m0s\u001b[0m 3ms/step - attrition_accuracy: 0.9785 - attrition_loss: 0.0512 - department_accuracy: 0.9550 - department_loss: 0.1481 - loss: 0.1993 - val_attrition_accuracy: 0.7828 - val_attrition_loss: 0.9834 - val_department_accuracy: 0.4932 - val_department_loss: 1.8019 - val_loss: 2.7935\n",
            "Epoch 19/100\n",
            "\u001b[1m28/28\u001b[0m \u001b[32m━━━━━━━━━━━━━━━━━━━━\u001b[0m\u001b[37m\u001b[0m \u001b[1m0s\u001b[0m 3ms/step - attrition_accuracy: 0.9867 - attrition_loss: 0.0457 - department_accuracy: 0.9569 - department_loss: 0.1542 - loss: 0.1998 - val_attrition_accuracy: 0.7873 - val_attrition_loss: 1.0380 - val_department_accuracy: 0.5611 - val_department_loss: 1.8491 - val_loss: 2.8983\n",
            "Epoch 20/100\n",
            "\u001b[1m28/28\u001b[0m \u001b[32m━━━━━━━━━━━━━━━━━━━━\u001b[0m\u001b[37m\u001b[0m \u001b[1m0s\u001b[0m 3ms/step - attrition_accuracy: 0.9807 - attrition_loss: 0.0631 - department_accuracy: 0.9538 - department_loss: 0.1517 - loss: 0.2148 - val_attrition_accuracy: 0.7647 - val_attrition_loss: 1.1047 - val_department_accuracy: 0.5158 - val_department_loss: 1.8234 - val_loss: 2.9391\n",
            "Epoch 21/100\n",
            "\u001b[1m28/28\u001b[0m \u001b[32m━━━━━━━━━━━━━━━━━━━━\u001b[0m\u001b[37m\u001b[0m \u001b[1m0s\u001b[0m 3ms/step - attrition_accuracy: 0.9806 - attrition_loss: 0.0519 - department_accuracy: 0.9624 - department_loss: 0.1423 - loss: 0.1943 - val_attrition_accuracy: 0.8054 - val_attrition_loss: 1.0302 - val_department_accuracy: 0.5158 - val_department_loss: 1.8344 - val_loss: 2.8708\n",
            "Epoch 22/100\n",
            "\u001b[1m28/28\u001b[0m \u001b[32m━━━━━━━━━━━━━━━━━━━━\u001b[0m\u001b[37m\u001b[0m \u001b[1m0s\u001b[0m 3ms/step - attrition_accuracy: 0.9891 - attrition_loss: 0.0426 - department_accuracy: 0.9685 - department_loss: 0.1311 - loss: 0.1734 - val_attrition_accuracy: 0.7692 - val_attrition_loss: 1.0991 - val_department_accuracy: 0.5158 - val_department_loss: 1.8861 - val_loss: 2.9937\n",
            "Epoch 23/100\n",
            "\u001b[1m28/28\u001b[0m \u001b[32m━━━━━━━━━━━━━━━━━━━━\u001b[0m\u001b[37m\u001b[0m \u001b[1m0s\u001b[0m 3ms/step - attrition_accuracy: 0.9745 - attrition_loss: 0.0695 - department_accuracy: 0.9638 - department_loss: 0.1292 - loss: 0.1988 - val_attrition_accuracy: 0.7738 - val_attrition_loss: 1.1045 - val_department_accuracy: 0.5430 - val_department_loss: 1.8827 - val_loss: 2.9988\n",
            "Epoch 24/100\n",
            "\u001b[1m28/28\u001b[0m \u001b[32m━━━━━━━━━━━━━━━━━━━━\u001b[0m\u001b[37m\u001b[0m \u001b[1m0s\u001b[0m 3ms/step - attrition_accuracy: 0.9758 - attrition_loss: 0.0690 - department_accuracy: 0.9669 - department_loss: 0.1362 - loss: 0.2050 - val_attrition_accuracy: 0.7511 - val_attrition_loss: 1.0864 - val_department_accuracy: 0.5204 - val_department_loss: 1.9066 - val_loss: 3.0048\n",
            "Epoch 25/100\n",
            "\u001b[1m28/28\u001b[0m \u001b[32m━━━━━━━━━━━━━━━━━━━━\u001b[0m\u001b[37m\u001b[0m \u001b[1m0s\u001b[0m 3ms/step - attrition_accuracy: 0.9737 - attrition_loss: 0.0638 - department_accuracy: 0.9700 - department_loss: 0.1150 - loss: 0.1788 - val_attrition_accuracy: 0.7738 - val_attrition_loss: 1.0450 - val_department_accuracy: 0.5294 - val_department_loss: 1.8752 - val_loss: 2.9289\n",
            "Epoch 26/100\n",
            "\u001b[1m28/28\u001b[0m \u001b[32m━━━━━━━━━━━━━━━━━━━━\u001b[0m\u001b[37m\u001b[0m \u001b[1m0s\u001b[0m 3ms/step - attrition_accuracy: 0.9858 - attrition_loss: 0.0416 - department_accuracy: 0.9575 - department_loss: 0.1524 - loss: 0.1941 - val_attrition_accuracy: 0.7919 - val_attrition_loss: 1.0388 - val_department_accuracy: 0.5068 - val_department_loss: 1.9280 - val_loss: 2.9745\n",
            "Epoch 27/100\n",
            "\u001b[1m28/28\u001b[0m \u001b[32m━━━━━━━━━━━━━━━━━━━━\u001b[0m\u001b[37m\u001b[0m \u001b[1m0s\u001b[0m 3ms/step - attrition_accuracy: 0.9789 - attrition_loss: 0.0530 - department_accuracy: 0.9707 - department_loss: 0.1150 - loss: 0.1681 - val_attrition_accuracy: 0.7828 - val_attrition_loss: 1.1228 - val_department_accuracy: 0.5158 - val_department_loss: 1.9590 - val_loss: 3.0917\n",
            "Epoch 28/100\n",
            "\u001b[1m28/28\u001b[0m \u001b[32m━━━━━━━━━━━━━━━━━━━━\u001b[0m\u001b[37m\u001b[0m \u001b[1m0s\u001b[0m 3ms/step - attrition_accuracy: 0.9881 - attrition_loss: 0.0388 - department_accuracy: 0.9550 - department_loss: 0.1347 - loss: 0.1735 - val_attrition_accuracy: 0.7738 - val_attrition_loss: 1.1530 - val_department_accuracy: 0.5158 - val_department_loss: 1.9505 - val_loss: 3.1152\n",
            "Epoch 29/100\n",
            "\u001b[1m28/28\u001b[0m \u001b[32m━━━━━━━━━━━━━━━━━━━━\u001b[0m\u001b[37m\u001b[0m \u001b[1m0s\u001b[0m 3ms/step - attrition_accuracy: 0.9879 - attrition_loss: 0.0423 - department_accuracy: 0.9727 - department_loss: 0.1129 - loss: 0.1550 - val_attrition_accuracy: 0.7828 - val_attrition_loss: 1.0902 - val_department_accuracy: 0.5385 - val_department_loss: 1.9932 - val_loss: 3.0938\n",
            "Epoch 30/100\n",
            "\u001b[1m28/28\u001b[0m \u001b[32m━━━━━━━━━━━━━━━━━━━━\u001b[0m\u001b[37m\u001b[0m \u001b[1m0s\u001b[0m 3ms/step - attrition_accuracy: 0.9896 - attrition_loss: 0.0362 - department_accuracy: 0.9736 - department_loss: 0.1200 - loss: 0.1561 - val_attrition_accuracy: 0.7738 - val_attrition_loss: 1.1244 - val_department_accuracy: 0.5385 - val_department_loss: 1.9749 - val_loss: 3.1083\n",
            "Epoch 31/100\n",
            "\u001b[1m28/28\u001b[0m \u001b[32m━━━━━━━━━━━━━━━━━━━━\u001b[0m\u001b[37m\u001b[0m \u001b[1m0s\u001b[0m 3ms/step - attrition_accuracy: 0.9910 - attrition_loss: 0.0366 - department_accuracy: 0.9686 - department_loss: 0.1269 - loss: 0.1635 - val_attrition_accuracy: 0.7738 - val_attrition_loss: 1.2013 - val_department_accuracy: 0.5339 - val_department_loss: 2.0425 - val_loss: 3.2570\n",
            "Epoch 32/100\n",
            "\u001b[1m28/28\u001b[0m \u001b[32m━━━━━━━━━━━━━━━━━━━━\u001b[0m\u001b[37m\u001b[0m \u001b[1m0s\u001b[0m 3ms/step - attrition_accuracy: 0.9859 - attrition_loss: 0.0502 - department_accuracy: 0.9383 - department_loss: 0.1537 - loss: 0.2038 - val_attrition_accuracy: 0.7647 - val_attrition_loss: 1.1961 - val_department_accuracy: 0.5113 - val_department_loss: 2.0345 - val_loss: 3.2426\n",
            "Epoch 33/100\n",
            "\u001b[1m28/28\u001b[0m \u001b[32m━━━━━━━━━━━━━━━━━━━━\u001b[0m\u001b[37m\u001b[0m \u001b[1m0s\u001b[0m 3ms/step - attrition_accuracy: 0.9859 - attrition_loss: 0.0448 - department_accuracy: 0.9671 - department_loss: 0.1252 - loss: 0.1701 - val_attrition_accuracy: 0.7828 - val_attrition_loss: 1.1934 - val_department_accuracy: 0.5475 - val_department_loss: 1.9928 - val_loss: 3.2010\n",
            "Epoch 34/100\n",
            "\u001b[1m28/28\u001b[0m \u001b[32m━━━━━━━━━━━━━━━━━━━━\u001b[0m\u001b[37m\u001b[0m \u001b[1m0s\u001b[0m 3ms/step - attrition_accuracy: 0.9826 - attrition_loss: 0.0455 - department_accuracy: 0.9626 - department_loss: 0.1293 - loss: 0.1748 - val_attrition_accuracy: 0.7873 - val_attrition_loss: 1.1372 - val_department_accuracy: 0.5068 - val_department_loss: 2.0613 - val_loss: 3.2092\n",
            "Epoch 35/100\n",
            "\u001b[1m28/28\u001b[0m \u001b[32m━━━━━━━━━━━━━━━━━━━━\u001b[0m\u001b[37m\u001b[0m \u001b[1m0s\u001b[0m 3ms/step - attrition_accuracy: 0.9781 - attrition_loss: 0.0472 - department_accuracy: 0.9813 - department_loss: 0.1082 - loss: 0.1553 - val_attrition_accuracy: 0.7647 - val_attrition_loss: 1.2149 - val_department_accuracy: 0.5294 - val_department_loss: 2.0348 - val_loss: 3.2633\n",
            "Epoch 36/100\n",
            "\u001b[1m28/28\u001b[0m \u001b[32m━━━━━━━━━━━━━━━━━━━━\u001b[0m\u001b[37m\u001b[0m \u001b[1m0s\u001b[0m 3ms/step - attrition_accuracy: 0.9924 - attrition_loss: 0.0448 - department_accuracy: 0.9568 - department_loss: 0.1216 - loss: 0.1664 - val_attrition_accuracy: 0.7828 - val_attrition_loss: 1.1754 - val_department_accuracy: 0.4977 - val_department_loss: 2.0742 - val_loss: 3.2624\n",
            "Epoch 37/100\n",
            "\u001b[1m28/28\u001b[0m \u001b[32m━━━━━━━━━━━━━━━━━━━━\u001b[0m\u001b[37m\u001b[0m \u001b[1m0s\u001b[0m 3ms/step - attrition_accuracy: 0.9835 - attrition_loss: 0.0472 - department_accuracy: 0.9718 - department_loss: 0.1043 - loss: 0.1516 - val_attrition_accuracy: 0.7919 - val_attrition_loss: 1.1925 - val_department_accuracy: 0.5249 - val_department_loss: 2.1113 - val_loss: 3.3153\n",
            "Epoch 38/100\n",
            "\u001b[1m28/28\u001b[0m \u001b[32m━━━━━━━━━━━━━━━━━━━━\u001b[0m\u001b[37m\u001b[0m \u001b[1m0s\u001b[0m 3ms/step - attrition_accuracy: 0.9938 - attrition_loss: 0.0295 - department_accuracy: 0.9854 - department_loss: 0.0970 - loss: 0.1266 - val_attrition_accuracy: 0.7828 - val_attrition_loss: 1.2026 - val_department_accuracy: 0.5204 - val_department_loss: 2.1178 - val_loss: 3.3313\n",
            "Epoch 39/100\n",
            "\u001b[1m28/28\u001b[0m \u001b[32m━━━━━━━━━━━━━━━━━━━━\u001b[0m\u001b[37m\u001b[0m \u001b[1m0s\u001b[0m 3ms/step - attrition_accuracy: 0.9905 - attrition_loss: 0.0290 - department_accuracy: 0.9813 - department_loss: 0.0901 - loss: 0.1192 - val_attrition_accuracy: 0.7964 - val_attrition_loss: 1.1854 - val_department_accuracy: 0.5385 - val_department_loss: 2.1198 - val_loss: 3.3176\n",
            "Epoch 40/100\n",
            "\u001b[1m28/28\u001b[0m \u001b[32m━━━━━━━━━━━━━━━━━━━━\u001b[0m\u001b[37m\u001b[0m \u001b[1m0s\u001b[0m 5ms/step - attrition_accuracy: 0.9905 - attrition_loss: 0.0358 - department_accuracy: 0.9766 - department_loss: 0.1005 - loss: 0.1364 - val_attrition_accuracy: 0.7783 - val_attrition_loss: 1.2668 - val_department_accuracy: 0.5294 - val_department_loss: 2.2000 - val_loss: 3.4779\n",
            "Epoch 41/100\n",
            "\u001b[1m28/28\u001b[0m \u001b[32m━━━━━━━━━━━━━━━━━━━━\u001b[0m\u001b[37m\u001b[0m \u001b[1m0s\u001b[0m 3ms/step - attrition_accuracy: 0.9893 - attrition_loss: 0.0315 - department_accuracy: 0.9845 - department_loss: 0.0856 - loss: 0.1170 - val_attrition_accuracy: 0.7873 - val_attrition_loss: 1.2276 - val_department_accuracy: 0.5385 - val_department_loss: 2.1749 - val_loss: 3.4141\n",
            "Epoch 42/100\n",
            "\u001b[1m28/28\u001b[0m \u001b[32m━━━━━━━━━━━━━━━━━━━━\u001b[0m\u001b[37m\u001b[0m \u001b[1m0s\u001b[0m 3ms/step - attrition_accuracy: 0.9829 - attrition_loss: 0.0357 - department_accuracy: 0.9832 - department_loss: 0.0837 - loss: 0.1194 - val_attrition_accuracy: 0.7738 - val_attrition_loss: 1.2633 - val_department_accuracy: 0.4977 - val_department_loss: 2.1803 - val_loss: 3.4561\n",
            "Epoch 43/100\n",
            "\u001b[1m28/28\u001b[0m \u001b[32m━━━━━━━━━━━━━━━━━━━━\u001b[0m\u001b[37m\u001b[0m \u001b[1m0s\u001b[0m 3ms/step - attrition_accuracy: 0.9851 - attrition_loss: 0.0412 - department_accuracy: 0.9809 - department_loss: 0.0977 - loss: 0.1390 - val_attrition_accuracy: 0.7828 - val_attrition_loss: 1.2719 - val_department_accuracy: 0.5113 - val_department_loss: 2.2182 - val_loss: 3.5016\n",
            "Epoch 44/100\n",
            "\u001b[1m28/28\u001b[0m \u001b[32m━━━━━━━━━━━━━━━━━━━━\u001b[0m\u001b[37m\u001b[0m \u001b[1m0s\u001b[0m 3ms/step - attrition_accuracy: 0.9914 - attrition_loss: 0.0275 - department_accuracy: 0.9763 - department_loss: 0.0964 - loss: 0.1238 - val_attrition_accuracy: 0.7828 - val_attrition_loss: 1.2953 - val_department_accuracy: 0.5339 - val_department_loss: 2.2353 - val_loss: 3.5423\n",
            "Epoch 45/100\n",
            "\u001b[1m28/28\u001b[0m \u001b[32m━━━━━━━━━━━━━━━━━━━━\u001b[0m\u001b[37m\u001b[0m \u001b[1m0s\u001b[0m 3ms/step - attrition_accuracy: 0.9950 - attrition_loss: 0.0242 - department_accuracy: 0.9816 - department_loss: 0.0930 - loss: 0.1172 - val_attrition_accuracy: 0.7828 - val_attrition_loss: 1.3021 - val_department_accuracy: 0.5475 - val_department_loss: 2.2290 - val_loss: 3.5422\n",
            "Epoch 46/100\n",
            "\u001b[1m28/28\u001b[0m \u001b[32m━━━━━━━━━━━━━━━━━━━━\u001b[0m\u001b[37m\u001b[0m \u001b[1m0s\u001b[0m 3ms/step - attrition_accuracy: 0.9888 - attrition_loss: 0.0329 - department_accuracy: 0.9790 - department_loss: 0.0955 - loss: 0.1284 - val_attrition_accuracy: 0.7873 - val_attrition_loss: 1.2735 - val_department_accuracy: 0.4932 - val_department_loss: 2.2175 - val_loss: 3.5043\n",
            "Epoch 47/100\n",
            "\u001b[1m28/28\u001b[0m \u001b[32m━━━━━━━━━━━━━━━━━━━━\u001b[0m\u001b[37m\u001b[0m \u001b[1m0s\u001b[0m 3ms/step - attrition_accuracy: 0.9905 - attrition_loss: 0.0312 - department_accuracy: 0.9883 - department_loss: 0.0805 - loss: 0.1115 - val_attrition_accuracy: 0.7828 - val_attrition_loss: 1.2801 - val_department_accuracy: 0.5339 - val_department_loss: 2.2890 - val_loss: 3.5807\n",
            "Epoch 48/100\n",
            "\u001b[1m28/28\u001b[0m \u001b[32m━━━━━━━━━━━━━━━━━━━━\u001b[0m\u001b[37m\u001b[0m \u001b[1m0s\u001b[0m 3ms/step - attrition_accuracy: 0.9951 - attrition_loss: 0.0243 - department_accuracy: 0.9776 - department_loss: 0.0931 - loss: 0.1173 - val_attrition_accuracy: 0.7783 - val_attrition_loss: 1.2958 - val_department_accuracy: 0.5385 - val_department_loss: 2.2983 - val_loss: 3.6069\n",
            "Epoch 49/100\n",
            "\u001b[1m28/28\u001b[0m \u001b[32m━━━━━━━━━━━━━━━━━━━━\u001b[0m\u001b[37m\u001b[0m \u001b[1m0s\u001b[0m 3ms/step - attrition_accuracy: 0.9935 - attrition_loss: 0.0257 - department_accuracy: 0.9834 - department_loss: 0.0760 - loss: 0.1017 - val_attrition_accuracy: 0.7783 - val_attrition_loss: 1.2980 - val_department_accuracy: 0.5204 - val_department_loss: 2.3415 - val_loss: 3.6502\n",
            "Epoch 50/100\n",
            "\u001b[1m28/28\u001b[0m \u001b[32m━━━━━━━━━━━━━━━━━━━━\u001b[0m\u001b[37m\u001b[0m \u001b[1m0s\u001b[0m 3ms/step - attrition_accuracy: 0.9904 - attrition_loss: 0.0372 - department_accuracy: 0.9894 - department_loss: 0.0744 - loss: 0.1115 - val_attrition_accuracy: 0.7738 - val_attrition_loss: 1.3555 - val_department_accuracy: 0.5158 - val_department_loss: 2.3190 - val_loss: 3.6875\n",
            "Epoch 51/100\n",
            "\u001b[1m28/28\u001b[0m \u001b[32m━━━━━━━━━━━━━━━━━━━━\u001b[0m\u001b[37m\u001b[0m \u001b[1m0s\u001b[0m 4ms/step - attrition_accuracy: 0.9839 - attrition_loss: 0.0427 - department_accuracy: 0.9796 - department_loss: 0.0876 - loss: 0.1302 - val_attrition_accuracy: 0.7738 - val_attrition_loss: 1.3683 - val_department_accuracy: 0.5520 - val_department_loss: 2.3414 - val_loss: 3.7211\n",
            "Epoch 52/100\n",
            "\u001b[1m28/28\u001b[0m \u001b[32m━━━━━━━━━━━━━━━━━━━━\u001b[0m\u001b[37m\u001b[0m \u001b[1m0s\u001b[0m 3ms/step - attrition_accuracy: 0.9752 - attrition_loss: 0.0564 - department_accuracy: 0.9829 - department_loss: 0.0827 - loss: 0.1391 - val_attrition_accuracy: 0.8009 - val_attrition_loss: 1.3278 - val_department_accuracy: 0.5113 - val_department_loss: 2.4310 - val_loss: 3.7725\n",
            "Epoch 53/100\n",
            "\u001b[1m28/28\u001b[0m \u001b[32m━━━━━━━━━━━━━━━━━━━━\u001b[0m\u001b[37m\u001b[0m \u001b[1m0s\u001b[0m 3ms/step - attrition_accuracy: 0.9629 - attrition_loss: 0.0957 - department_accuracy: 0.9821 - department_loss: 0.0839 - loss: 0.1794 - val_attrition_accuracy: 0.7466 - val_attrition_loss: 1.5065 - val_department_accuracy: 0.4842 - val_department_loss: 2.4176 - val_loss: 3.9393\n",
            "Epoch 54/100\n",
            "\u001b[1m28/28\u001b[0m \u001b[32m━━━━━━━━━━━━━━━━━━━━\u001b[0m\u001b[37m\u001b[0m \u001b[1m0s\u001b[0m 3ms/step - attrition_accuracy: 0.9485 - attrition_loss: 0.1187 - department_accuracy: 0.9695 - department_loss: 0.1171 - loss: 0.2358 - val_attrition_accuracy: 0.7738 - val_attrition_loss: 1.3391 - val_department_accuracy: 0.5204 - val_department_loss: 2.3157 - val_loss: 3.6701\n",
            "Epoch 55/100\n",
            "\u001b[1m28/28\u001b[0m \u001b[32m━━━━━━━━━━━━━━━━━━━━\u001b[0m\u001b[37m\u001b[0m \u001b[1m0s\u001b[0m 3ms/step - attrition_accuracy: 0.9679 - attrition_loss: 0.0945 - department_accuracy: 0.9734 - department_loss: 0.1052 - loss: 0.1997 - val_attrition_accuracy: 0.7647 - val_attrition_loss: 1.3638 - val_department_accuracy: 0.5294 - val_department_loss: 2.4073 - val_loss: 3.7849\n",
            "Epoch 56/100\n",
            "\u001b[1m28/28\u001b[0m \u001b[32m━━━━━━━━━━━━━━━━━━━━\u001b[0m\u001b[37m\u001b[0m \u001b[1m0s\u001b[0m 3ms/step - attrition_accuracy: 0.9916 - attrition_loss: 0.0347 - department_accuracy: 0.9842 - department_loss: 0.0842 - loss: 0.1189 - val_attrition_accuracy: 0.7692 - val_attrition_loss: 1.3740 - val_department_accuracy: 0.5249 - val_department_loss: 2.3544 - val_loss: 3.7428\n",
            "Epoch 57/100\n",
            "\u001b[1m28/28\u001b[0m \u001b[32m━━━━━━━━━━━━━━━━━━━━\u001b[0m\u001b[37m\u001b[0m \u001b[1m0s\u001b[0m 3ms/step - attrition_accuracy: 0.9943 - attrition_loss: 0.0274 - department_accuracy: 0.9866 - department_loss: 0.0803 - loss: 0.1079 - val_attrition_accuracy: 0.7647 - val_attrition_loss: 1.3460 - val_department_accuracy: 0.5204 - val_department_loss: 2.4024 - val_loss: 3.7597\n",
            "Epoch 58/100\n",
            "\u001b[1m28/28\u001b[0m \u001b[32m━━━━━━━━━━━━━━━━━━━━\u001b[0m\u001b[37m\u001b[0m \u001b[1m0s\u001b[0m 3ms/step - attrition_accuracy: 0.9930 - attrition_loss: 0.0281 - department_accuracy: 0.9880 - department_loss: 0.0660 - loss: 0.0942 - val_attrition_accuracy: 0.7692 - val_attrition_loss: 1.3551 - val_department_accuracy: 0.5113 - val_department_loss: 2.3895 - val_loss: 3.7602\n",
            "Epoch 59/100\n",
            "\u001b[1m28/28\u001b[0m \u001b[32m━━━━━━━━━━━━━━━━━━━━\u001b[0m\u001b[37m\u001b[0m \u001b[1m0s\u001b[0m 3ms/step - attrition_accuracy: 0.9950 - attrition_loss: 0.0218 - department_accuracy: 0.9889 - department_loss: 0.0680 - loss: 0.0896 - val_attrition_accuracy: 0.7783 - val_attrition_loss: 1.3636 - val_department_accuracy: 0.5430 - val_department_loss: 2.4520 - val_loss: 3.8304\n",
            "Epoch 60/100\n",
            "\u001b[1m28/28\u001b[0m \u001b[32m━━━━━━━━━━━━━━━━━━━━\u001b[0m\u001b[37m\u001b[0m \u001b[1m0s\u001b[0m 3ms/step - attrition_accuracy: 0.9947 - attrition_loss: 0.0252 - department_accuracy: 0.9857 - department_loss: 0.0643 - loss: 0.0896 - val_attrition_accuracy: 0.7738 - val_attrition_loss: 1.3522 - val_department_accuracy: 0.5113 - val_department_loss: 2.5463 - val_loss: 3.9126\n",
            "Epoch 61/100\n",
            "\u001b[1m28/28\u001b[0m \u001b[32m━━━━━━━━━━━━━━━━━━━━\u001b[0m\u001b[37m\u001b[0m \u001b[1m0s\u001b[0m 3ms/step - attrition_accuracy: 0.9931 - attrition_loss: 0.0256 - department_accuracy: 0.9939 - department_loss: 0.0591 - loss: 0.0847 - val_attrition_accuracy: 0.7692 - val_attrition_loss: 1.3828 - val_department_accuracy: 0.5158 - val_department_loss: 2.4886 - val_loss: 3.8873\n",
            "Epoch 62/100\n",
            "\u001b[1m28/28\u001b[0m \u001b[32m━━━━━━━━━━━━━━━━━━━━\u001b[0m\u001b[37m\u001b[0m \u001b[1m0s\u001b[0m 3ms/step - attrition_accuracy: 0.9923 - attrition_loss: 0.0225 - department_accuracy: 0.9901 - department_loss: 0.0607 - loss: 0.0830 - val_attrition_accuracy: 0.7783 - val_attrition_loss: 1.3838 - val_department_accuracy: 0.5068 - val_department_loss: 2.5308 - val_loss: 3.9303\n",
            "Epoch 63/100\n",
            "\u001b[1m28/28\u001b[0m \u001b[32m━━━━━━━━━━━━━━━━━━━━\u001b[0m\u001b[37m\u001b[0m \u001b[1m0s\u001b[0m 3ms/step - attrition_accuracy: 0.9955 - attrition_loss: 0.0209 - department_accuracy: 0.9861 - department_loss: 0.0675 - loss: 0.0884 - val_attrition_accuracy: 0.7783 - val_attrition_loss: 1.3902 - val_department_accuracy: 0.5158 - val_department_loss: 2.4929 - val_loss: 3.8974\n",
            "Epoch 64/100\n",
            "\u001b[1m28/28\u001b[0m \u001b[32m━━━━━━━━━━━━━━━━━━━━\u001b[0m\u001b[37m\u001b[0m \u001b[1m0s\u001b[0m 3ms/step - attrition_accuracy: 0.9912 - attrition_loss: 0.0234 - department_accuracy: 0.9911 - department_loss: 0.0521 - loss: 0.0756 - val_attrition_accuracy: 0.7783 - val_attrition_loss: 1.3935 - val_department_accuracy: 0.5294 - val_department_loss: 2.5574 - val_loss: 3.9625\n",
            "Epoch 65/100\n",
            "\u001b[1m28/28\u001b[0m \u001b[32m━━━━━━━━━━━━━━━━━━━━\u001b[0m\u001b[37m\u001b[0m \u001b[1m0s\u001b[0m 3ms/step - attrition_accuracy: 0.9933 - attrition_loss: 0.0248 - department_accuracy: 0.9911 - department_loss: 0.0546 - loss: 0.0794 - val_attrition_accuracy: 0.7738 - val_attrition_loss: 1.4183 - val_department_accuracy: 0.5294 - val_department_loss: 2.5805 - val_loss: 4.0149\n",
            "Epoch 66/100\n",
            "\u001b[1m28/28\u001b[0m \u001b[32m━━━━━━━━━━━━━━━━━━━━\u001b[0m\u001b[37m\u001b[0m \u001b[1m0s\u001b[0m 3ms/step - attrition_accuracy: 0.9933 - attrition_loss: 0.0213 - department_accuracy: 0.9886 - department_loss: 0.0617 - loss: 0.0831 - val_attrition_accuracy: 0.7647 - val_attrition_loss: 1.4689 - val_department_accuracy: 0.5249 - val_department_loss: 2.5999 - val_loss: 4.0841\n",
            "Epoch 67/100\n",
            "\u001b[1m28/28\u001b[0m \u001b[32m━━━━━━━━━━━━━━━━━━━━\u001b[0m\u001b[37m\u001b[0m \u001b[1m0s\u001b[0m 6ms/step - attrition_accuracy: 0.9964 - attrition_loss: 0.0209 - department_accuracy: 0.9898 - department_loss: 0.0565 - loss: 0.0774 - val_attrition_accuracy: 0.7738 - val_attrition_loss: 1.3929 - val_department_accuracy: 0.5249 - val_department_loss: 2.5821 - val_loss: 3.9878\n",
            "Epoch 68/100\n",
            "\u001b[1m28/28\u001b[0m \u001b[32m━━━━━━━━━━━━━━━━━━━━\u001b[0m\u001b[37m\u001b[0m \u001b[1m0s\u001b[0m 3ms/step - attrition_accuracy: 0.9967 - attrition_loss: 0.0207 - department_accuracy: 0.9861 - department_loss: 0.0639 - loss: 0.0845 - val_attrition_accuracy: 0.7783 - val_attrition_loss: 1.4540 - val_department_accuracy: 0.5294 - val_department_loss: 2.5872 - val_loss: 4.0561\n",
            "Epoch 69/100\n",
            "\u001b[1m28/28\u001b[0m \u001b[32m━━━━━━━━━━━━━━━━━━━━\u001b[0m\u001b[37m\u001b[0m \u001b[1m0s\u001b[0m 3ms/step - attrition_accuracy: 0.9952 - attrition_loss: 0.0215 - department_accuracy: 0.9976 - department_loss: 0.0538 - loss: 0.0752 - val_attrition_accuracy: 0.7738 - val_attrition_loss: 1.4968 - val_department_accuracy: 0.5204 - val_department_loss: 2.6536 - val_loss: 4.1654\n",
            "Epoch 70/100\n",
            "\u001b[1m28/28\u001b[0m \u001b[32m━━━━━━━━━━━━━━━━━━━━\u001b[0m\u001b[37m\u001b[0m \u001b[1m0s\u001b[0m 3ms/step - attrition_accuracy: 0.9956 - attrition_loss: 0.0235 - department_accuracy: 0.9934 - department_loss: 0.0527 - loss: 0.0762 - val_attrition_accuracy: 0.7647 - val_attrition_loss: 1.5601 - val_department_accuracy: 0.5385 - val_department_loss: 2.6656 - val_loss: 4.2410\n",
            "Epoch 71/100\n",
            "\u001b[1m28/28\u001b[0m \u001b[32m━━━━━━━━━━━━━━━━━━━━\u001b[0m\u001b[37m\u001b[0m \u001b[1m0s\u001b[0m 3ms/step - attrition_accuracy: 0.9915 - attrition_loss: 0.0288 - department_accuracy: 0.9928 - department_loss: 0.0544 - loss: 0.0832 - val_attrition_accuracy: 0.7783 - val_attrition_loss: 1.3978 - val_department_accuracy: 0.5158 - val_department_loss: 2.6540 - val_loss: 4.0681\n",
            "Epoch 72/100\n",
            "\u001b[1m28/28\u001b[0m \u001b[32m━━━━━━━━━━━━━━━━━━━━\u001b[0m\u001b[37m\u001b[0m \u001b[1m0s\u001b[0m 3ms/step - attrition_accuracy: 0.9913 - attrition_loss: 0.0242 - department_accuracy: 0.9878 - department_loss: 0.0618 - loss: 0.0860 - val_attrition_accuracy: 0.7919 - val_attrition_loss: 1.4288 - val_department_accuracy: 0.5385 - val_department_loss: 2.6480 - val_loss: 4.0890\n",
            "Epoch 73/100\n",
            "\u001b[1m28/28\u001b[0m \u001b[32m━━━━━━━━━━━━━━━━━━━━\u001b[0m\u001b[37m\u001b[0m \u001b[1m0s\u001b[0m 3ms/step - attrition_accuracy: 0.9862 - attrition_loss: 0.0353 - department_accuracy: 0.9926 - department_loss: 0.0530 - loss: 0.0884 - val_attrition_accuracy: 0.7828 - val_attrition_loss: 1.4142 - val_department_accuracy: 0.5158 - val_department_loss: 2.6921 - val_loss: 4.1220\n",
            "Epoch 74/100\n",
            "\u001b[1m28/28\u001b[0m \u001b[32m━━━━━━━━━━━━━━━━━━━━\u001b[0m\u001b[37m\u001b[0m \u001b[1m0s\u001b[0m 3ms/step - attrition_accuracy: 0.9754 - attrition_loss: 0.0653 - department_accuracy: 0.9913 - department_loss: 0.0600 - loss: 0.1253 - val_attrition_accuracy: 0.7602 - val_attrition_loss: 1.6812 - val_department_accuracy: 0.5339 - val_department_loss: 2.7454 - val_loss: 4.4398\n",
            "Epoch 75/100\n",
            "\u001b[1m28/28\u001b[0m \u001b[32m━━━━━━━━━━━━━━━━━━━━\u001b[0m\u001b[37m\u001b[0m \u001b[1m0s\u001b[0m 3ms/step - attrition_accuracy: 0.9888 - attrition_loss: 0.0369 - department_accuracy: 0.9882 - department_loss: 0.0614 - loss: 0.0983 - val_attrition_accuracy: 0.7738 - val_attrition_loss: 1.4534 - val_department_accuracy: 0.5294 - val_department_loss: 2.6750 - val_loss: 4.1438\n",
            "Epoch 76/100\n",
            "\u001b[1m28/28\u001b[0m \u001b[32m━━━━━━━━━━━━━━━━━━━━\u001b[0m\u001b[37m\u001b[0m \u001b[1m0s\u001b[0m 3ms/step - attrition_accuracy: 0.9959 - attrition_loss: 0.0232 - department_accuracy: 0.9905 - department_loss: 0.0552 - loss: 0.0783 - val_attrition_accuracy: 0.7783 - val_attrition_loss: 1.4136 - val_department_accuracy: 0.5339 - val_department_loss: 2.7532 - val_loss: 4.1810\n",
            "Epoch 77/100\n",
            "\u001b[1m28/28\u001b[0m \u001b[32m━━━━━━━━━━━━━━━━━━━━\u001b[0m\u001b[37m\u001b[0m \u001b[1m0s\u001b[0m 3ms/step - attrition_accuracy: 0.9942 - attrition_loss: 0.0198 - department_accuracy: 0.9872 - department_loss: 0.0611 - loss: 0.0809 - val_attrition_accuracy: 0.7919 - val_attrition_loss: 1.4372 - val_department_accuracy: 0.5249 - val_department_loss: 2.7880 - val_loss: 4.2379\n",
            "Epoch 78/100\n",
            "\u001b[1m28/28\u001b[0m \u001b[32m━━━━━━━━━━━━━━━━━━━━\u001b[0m\u001b[37m\u001b[0m \u001b[1m0s\u001b[0m 3ms/step - attrition_accuracy: 0.9956 - attrition_loss: 0.0187 - department_accuracy: 0.9901 - department_loss: 0.0520 - loss: 0.0707 - val_attrition_accuracy: 0.7873 - val_attrition_loss: 1.4605 - val_department_accuracy: 0.5204 - val_department_loss: 2.7867 - val_loss: 4.2640\n",
            "Epoch 79/100\n",
            "\u001b[1m28/28\u001b[0m \u001b[32m━━━━━━━━━━━━━━━━━━━━\u001b[0m\u001b[37m\u001b[0m \u001b[1m0s\u001b[0m 3ms/step - attrition_accuracy: 0.9902 - attrition_loss: 0.0198 - department_accuracy: 0.9971 - department_loss: 0.0448 - loss: 0.0647 - val_attrition_accuracy: 0.7738 - val_attrition_loss: 1.5295 - val_department_accuracy: 0.5475 - val_department_loss: 2.7912 - val_loss: 4.3380\n",
            "Epoch 80/100\n",
            "\u001b[1m28/28\u001b[0m \u001b[32m━━━━━━━━━━━━━━━━━━━━\u001b[0m\u001b[37m\u001b[0m \u001b[1m0s\u001b[0m 3ms/step - attrition_accuracy: 0.9919 - attrition_loss: 0.0235 - department_accuracy: 0.9954 - department_loss: 0.0499 - loss: 0.0734 - val_attrition_accuracy: 0.7647 - val_attrition_loss: 1.6379 - val_department_accuracy: 0.5068 - val_department_loss: 2.8677 - val_loss: 4.5237\n",
            "Epoch 81/100\n",
            "\u001b[1m28/28\u001b[0m \u001b[32m━━━━━━━━━━━━━━━━━━━━\u001b[0m\u001b[37m\u001b[0m \u001b[1m0s\u001b[0m 3ms/step - attrition_accuracy: 0.9907 - attrition_loss: 0.0268 - department_accuracy: 0.9956 - department_loss: 0.0455 - loss: 0.0724 - val_attrition_accuracy: 0.7557 - val_attrition_loss: 1.6920 - val_department_accuracy: 0.5339 - val_department_loss: 2.7562 - val_loss: 4.4677\n",
            "Epoch 82/100\n",
            "\u001b[1m28/28\u001b[0m \u001b[32m━━━━━━━━━━━━━━━━━━━━\u001b[0m\u001b[37m\u001b[0m \u001b[1m0s\u001b[0m 3ms/step - attrition_accuracy: 0.9939 - attrition_loss: 0.0210 - department_accuracy: 0.9901 - department_loss: 0.0421 - loss: 0.0628 - val_attrition_accuracy: 0.7692 - val_attrition_loss: 1.4791 - val_department_accuracy: 0.5113 - val_department_loss: 2.8009 - val_loss: 4.2954\n",
            "Epoch 83/100\n",
            "\u001b[1m28/28\u001b[0m \u001b[32m━━━━━━━━━━━━━━━━━━━━\u001b[0m\u001b[37m\u001b[0m \u001b[1m0s\u001b[0m 3ms/step - attrition_accuracy: 0.9938 - attrition_loss: 0.0171 - department_accuracy: 0.9934 - department_loss: 0.0436 - loss: 0.0607 - val_attrition_accuracy: 0.7692 - val_attrition_loss: 1.5987 - val_department_accuracy: 0.5068 - val_department_loss: 2.8050 - val_loss: 4.4224\n",
            "Epoch 84/100\n",
            "\u001b[1m28/28\u001b[0m \u001b[32m━━━━━━━━━━━━━━━━━━━━\u001b[0m\u001b[37m\u001b[0m \u001b[1m0s\u001b[0m 3ms/step - attrition_accuracy: 0.9933 - attrition_loss: 0.0180 - department_accuracy: 0.9952 - department_loss: 0.0421 - loss: 0.0601 - val_attrition_accuracy: 0.7692 - val_attrition_loss: 1.5957 - val_department_accuracy: 0.5385 - val_department_loss: 2.8419 - val_loss: 4.4534\n",
            "Epoch 85/100\n",
            "\u001b[1m28/28\u001b[0m \u001b[32m━━━━━━━━━━━━━━━━━━━━\u001b[0m\u001b[37m\u001b[0m \u001b[1m0s\u001b[0m 3ms/step - attrition_accuracy: 0.9917 - attrition_loss: 0.0204 - department_accuracy: 0.9922 - department_loss: 0.0439 - loss: 0.0643 - val_attrition_accuracy: 0.7828 - val_attrition_loss: 1.5457 - val_department_accuracy: 0.5023 - val_department_loss: 2.9190 - val_loss: 4.4805\n",
            "Epoch 86/100\n",
            "\u001b[1m28/28\u001b[0m \u001b[32m━━━━━━━━━━━━━━━━━━━━\u001b[0m\u001b[37m\u001b[0m \u001b[1m0s\u001b[0m 3ms/step - attrition_accuracy: 0.9927 - attrition_loss: 0.0174 - department_accuracy: 0.9922 - department_loss: 0.0396 - loss: 0.0569 - val_attrition_accuracy: 0.7828 - val_attrition_loss: 1.5471 - val_department_accuracy: 0.5113 - val_department_loss: 2.9226 - val_loss: 4.4879\n",
            "Epoch 87/100\n",
            "\u001b[1m28/28\u001b[0m \u001b[32m━━━━━━━━━━━━━━━━━━━━\u001b[0m\u001b[37m\u001b[0m \u001b[1m0s\u001b[0m 3ms/step - attrition_accuracy: 0.9968 - attrition_loss: 0.0127 - department_accuracy: 0.9954 - department_loss: 0.0361 - loss: 0.0488 - val_attrition_accuracy: 0.7602 - val_attrition_loss: 1.6633 - val_department_accuracy: 0.5068 - val_department_loss: 2.8965 - val_loss: 4.5779\n",
            "Epoch 88/100\n",
            "\u001b[1m28/28\u001b[0m \u001b[32m━━━━━━━━━━━━━━━━━━━━\u001b[0m\u001b[37m\u001b[0m \u001b[1m0s\u001b[0m 3ms/step - attrition_accuracy: 0.9938 - attrition_loss: 0.0207 - department_accuracy: 0.9924 - department_loss: 0.0406 - loss: 0.0613 - val_attrition_accuracy: 0.7738 - val_attrition_loss: 1.5345 - val_department_accuracy: 0.5249 - val_department_loss: 2.9705 - val_loss: 4.5217\n",
            "Epoch 89/100\n",
            "\u001b[1m28/28\u001b[0m \u001b[32m━━━━━━━━━━━━━━━━━━━━\u001b[0m\u001b[37m\u001b[0m \u001b[1m0s\u001b[0m 3ms/step - attrition_accuracy: 0.9966 - attrition_loss: 0.0119 - department_accuracy: 0.9949 - department_loss: 0.0374 - loss: 0.0494 - val_attrition_accuracy: 0.7647 - val_attrition_loss: 1.6556 - val_department_accuracy: 0.5430 - val_department_loss: 2.9339 - val_loss: 4.6050\n",
            "Epoch 90/100\n",
            "\u001b[1m28/28\u001b[0m \u001b[32m━━━━━━━━━━━━━━━━━━━━\u001b[0m\u001b[37m\u001b[0m \u001b[1m0s\u001b[0m 3ms/step - attrition_accuracy: 0.9928 - attrition_loss: 0.0205 - department_accuracy: 0.9944 - department_loss: 0.0399 - loss: 0.0604 - val_attrition_accuracy: 0.7738 - val_attrition_loss: 1.5862 - val_department_accuracy: 0.5113 - val_department_loss: 2.9831 - val_loss: 4.5878\n",
            "Epoch 91/100\n",
            "\u001b[1m28/28\u001b[0m \u001b[32m━━━━━━━━━━━━━━━━━━━━\u001b[0m\u001b[37m\u001b[0m \u001b[1m0s\u001b[0m 4ms/step - attrition_accuracy: 0.9922 - attrition_loss: 0.0188 - department_accuracy: 0.9945 - department_loss: 0.0390 - loss: 0.0577 - val_attrition_accuracy: 0.7873 - val_attrition_loss: 1.5612 - val_department_accuracy: 0.5430 - val_department_loss: 2.9916 - val_loss: 4.5692\n",
            "Epoch 92/100\n",
            "\u001b[1m28/28\u001b[0m \u001b[32m━━━━━━━━━━━━━━━━━━━━\u001b[0m\u001b[37m\u001b[0m \u001b[1m0s\u001b[0m 3ms/step - attrition_accuracy: 0.9960 - attrition_loss: 0.0122 - department_accuracy: 0.9933 - department_loss: 0.0388 - loss: 0.0511 - val_attrition_accuracy: 0.7783 - val_attrition_loss: 1.5995 - val_department_accuracy: 0.5385 - val_department_loss: 3.0409 - val_loss: 4.6562\n",
            "Epoch 93/100\n",
            "\u001b[1m28/28\u001b[0m \u001b[32m━━━━━━━━━━━━━━━━━━━━\u001b[0m\u001b[37m\u001b[0m \u001b[1m0s\u001b[0m 3ms/step - attrition_accuracy: 0.9931 - attrition_loss: 0.0182 - department_accuracy: 0.9904 - department_loss: 0.0468 - loss: 0.0649 - val_attrition_accuracy: 0.7602 - val_attrition_loss: 1.7267 - val_department_accuracy: 0.4932 - val_department_loss: 3.0229 - val_loss: 4.7678\n",
            "Epoch 94/100\n",
            "\u001b[1m28/28\u001b[0m \u001b[32m━━━━━━━━━━━━━━━━━━━━\u001b[0m\u001b[37m\u001b[0m \u001b[1m0s\u001b[0m 3ms/step - attrition_accuracy: 0.9910 - attrition_loss: 0.0199 - department_accuracy: 0.9940 - department_loss: 0.0415 - loss: 0.0614 - val_attrition_accuracy: 0.7738 - val_attrition_loss: 1.6790 - val_department_accuracy: 0.5339 - val_department_loss: 3.0224 - val_loss: 4.7182\n",
            "Epoch 95/100\n",
            "\u001b[1m28/28\u001b[0m \u001b[32m━━━━━━━━━━━━━━━━━━━━\u001b[0m\u001b[37m\u001b[0m \u001b[1m0s\u001b[0m 3ms/step - attrition_accuracy: 0.9940 - attrition_loss: 0.0169 - department_accuracy: 0.9979 - department_loss: 0.0311 - loss: 0.0481 - val_attrition_accuracy: 0.7919 - val_attrition_loss: 1.6225 - val_department_accuracy: 0.5430 - val_department_loss: 3.0791 - val_loss: 4.7214\n",
            "Epoch 96/100\n",
            "\u001b[1m28/28\u001b[0m \u001b[32m━━━━━━━━━━━━━━━━━━━━\u001b[0m\u001b[37m\u001b[0m \u001b[1m0s\u001b[0m 3ms/step - attrition_accuracy: 0.9956 - attrition_loss: 0.0141 - department_accuracy: 0.9965 - department_loss: 0.0337 - loss: 0.0478 - val_attrition_accuracy: 0.7919 - val_attrition_loss: 1.6308 - val_department_accuracy: 0.5385 - val_department_loss: 3.1131 - val_loss: 4.7584\n",
            "Epoch 97/100\n",
            "\u001b[1m28/28\u001b[0m \u001b[32m━━━━━━━━━━━━━━━━━━━━\u001b[0m\u001b[37m\u001b[0m \u001b[1m0s\u001b[0m 3ms/step - attrition_accuracy: 0.9957 - attrition_loss: 0.0150 - department_accuracy: 0.9872 - department_loss: 0.0485 - loss: 0.0634 - val_attrition_accuracy: 0.7964 - val_attrition_loss: 1.6638 - val_department_accuracy: 0.5294 - val_department_loss: 3.0777 - val_loss: 4.7567\n",
            "Epoch 98/100\n",
            "\u001b[1m28/28\u001b[0m \u001b[32m━━━━━━━━━━━━━━━━━━━━\u001b[0m\u001b[37m\u001b[0m \u001b[1m0s\u001b[0m 3ms/step - attrition_accuracy: 0.9953 - attrition_loss: 0.0155 - department_accuracy: 0.9900 - department_loss: 0.0431 - loss: 0.0586 - val_attrition_accuracy: 0.7647 - val_attrition_loss: 1.6261 - val_department_accuracy: 0.5158 - val_department_loss: 3.0947 - val_loss: 4.7349\n",
            "Epoch 99/100\n",
            "\u001b[1m28/28\u001b[0m \u001b[32m━━━━━━━━━━━━━━━━━━━━\u001b[0m\u001b[37m\u001b[0m \u001b[1m0s\u001b[0m 3ms/step - attrition_accuracy: 0.9961 - attrition_loss: 0.0153 - department_accuracy: 0.9921 - department_loss: 0.0393 - loss: 0.0546 - val_attrition_accuracy: 0.7557 - val_attrition_loss: 1.7364 - val_department_accuracy: 0.5385 - val_department_loss: 3.1889 - val_loss: 4.9416\n",
            "Epoch 100/100\n",
            "\u001b[1m28/28\u001b[0m \u001b[32m━━━━━━━━━━━━━━━━━━━━\u001b[0m\u001b[37m\u001b[0m \u001b[1m0s\u001b[0m 3ms/step - attrition_accuracy: 0.9943 - attrition_loss: 0.0166 - department_accuracy: 0.9954 - department_loss: 0.0452 - loss: 0.0618 - val_attrition_accuracy: 0.7692 - val_attrition_loss: 1.7229 - val_department_accuracy: 0.5204 - val_department_loss: 3.1194 - val_loss: 4.8599\n"
          ]
        },
        {
          "data": {
            "text/plain": [
              "<keras.src.callbacks.history.History at 0x30015bda0>"
            ]
          },
          "execution_count": 30,
          "metadata": {},
          "output_type": "execute_result"
        }
      ],
      "source": [
        "# Train the model \n",
        "model.fit(X_train_scaled,\n",
        "            {'department': department_train, 'attrition': attrition_train},\n",
        "             epochs=100,\n",
        "             batch_size=32,\n",
        "             validation_split=0.2, )\n",
        "\n"
      ]
    },
    {
      "cell_type": "code",
      "execution_count": 31,
      "metadata": {
        "colab": {
          "base_uri": "https://localhost:8080/"
        },
        "id": "VsMoaQlgGc3U",
        "outputId": "1bd4e601-e964-4abc-ad83-aeecf6b696be"
      },
      "outputs": [
        {
          "name": "stdout",
          "output_type": "stream",
          "text": [
            "\u001b[1m12/12\u001b[0m \u001b[32m━━━━━━━━━━━━━━━━━━━━\u001b[0m\u001b[37m\u001b[0m \u001b[1m0s\u001b[0m 2ms/step - attrition_accuracy: 0.3241 - attrition_loss: 87.1092 - department_accuracy: 0.4072 - department_loss: 42.3625 - loss: 129.5142 \n"
          ]
        },
        {
          "data": {
            "text/plain": [
              "[130.9219207763672,\n",
              " 41.775997161865234,\n",
              " 88.86941528320312,\n",
              " 0.323369562625885,\n",
              " 0.40489131212234497]"
            ]
          },
          "execution_count": 31,
          "metadata": {},
          "output_type": "execute_result"
        }
      ],
      "source": [
        "# Evaluate the model with the testing data\n",
        "test_results = model.evaluate(X_test, {'department': department_test, 'attrition': attrition_test})\n",
        "test_results"
      ]
    },
    {
      "cell_type": "code",
      "execution_count": 32,
      "metadata": {
        "colab": {
          "base_uri": "https://localhost:8080/"
        },
        "id": "ZlCtlHi0Vt54",
        "outputId": "bc21ef3e-80c2-4b38-9c29-79515bc23dec"
      },
      "outputs": [
        {
          "name": "stdout",
          "output_type": "stream",
          "text": [
            "Department predictions accuracy: 0.323369562625885\n",
            "Attrition predictions accuracy: 0.40489131212234497\n"
          ]
        }
      ],
      "source": [
        "# Print the accuracy for both department and attrition \n",
        "print(f\"Department predictions accuracy: {test_results[3]}\")\n",
        "print(f\"Attrition predictions accuracy: {test_results[4]}\")\n"
      ]
    },
    {
      "cell_type": "markdown",
      "metadata": {
        "id": "eGSyfsZfWOQM"
      },
      "source": [
        "# Summary\n",
        "\n",
        "In the provided space below, briefly answer the following questions.\n",
        "\n",
        "1. Is accuracy the best metric to use on this data? Why or why not?\n",
        "\n",
        "2. What activation functions did you choose for your output layers, and why?\n",
        "\n",
        "3. Can you name a few ways that this model might be improved?"
      ]
    },
    {
      "cell_type": "markdown",
      "metadata": {
        "id": "pi9SLpFnWvbF"
      },
      "source": [
        "YOUR ANSWERS HERE\n",
        "\n",
        "1. In the context of an employee attrition dataset, precision might be a better metric than accuracy. The Attrition column values show that the dataset is imbalanced (1233:No, 237:Yes), where the number of employees who stay is much larger than the number who leave. In such cases, accuracy can be misleading because a model that always predicts the majority class (e.g., predicting that all employees will stay) can still have high accuracy but not provide a true representation of the model's performance. Precision is the ratio of true positive predictions to the total number of positive predictions (true positives + false positives). It tells you how many of the employees predicted to leave actually left. This is crucial if the cost of a false positive (predicting an employee will leave when they won't) is high, such as unnecessary retention efforts or interventions. Therefore, precision provides a more meaningful evaluation metric in this context.\n",
        "\n",
        "2. I used the `softmax` activation function for the output layers. The `softmax` activation function is appropriate in this context because it is typically used in the output layer of a neural network for multi-class classification problems. The `softmax` function converts the raw output scores (logits) from the network into probabilities that sum to 100%, making it easier to interpret the results. This is particularly useful when the model needs to classify inputs into multiple categories, such as different departments or attrition status. `softmax` ensures that the output values are in the range (0, 1) and sum up to 1, which is essential for probabilistic interpretation.\n",
        "\n",
        "3. The model can be improved by increasing the size of the dataset, which can help the model learn better and generalize well to unseen data. Additionally, using precision as the evaluation metric instead of accuracy can provide a more accurate assessment of the model's performance, especially in the context of imbalanced datasets. Other potential improvements include experimenting with different neural network architectures, tuning hyperparameters, and incorporating additional relevant features into the model."
      ]
    },
    {
      "cell_type": "markdown",
      "metadata": {},
      "source": []
    }
  ],
  "metadata": {
    "colab": {
      "provenance": []
    },
    "kernelspec": {
      "display_name": "base",
      "language": "python",
      "name": "python3"
    },
    "language_info": {
      "codemirror_mode": {
        "name": "ipython",
        "version": 3
      },
      "file_extension": ".py",
      "mimetype": "text/x-python",
      "name": "python",
      "nbconvert_exporter": "python",
      "pygments_lexer": "ipython3",
      "version": "3.12.4"
    }
  },
  "nbformat": 4,
  "nbformat_minor": 0
}
